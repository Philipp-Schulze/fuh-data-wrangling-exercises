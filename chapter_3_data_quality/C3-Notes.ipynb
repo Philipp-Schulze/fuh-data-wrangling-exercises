{
 "cells": [
  {
   "cell_type": "markdown",
   "metadata": {},
   "source": [
    "# DATA QUALITY\n",
    "\n",
    "## Data Fit\n",
    "\n",
    "Does the data modell match the reality?\n",
    "\n",
    "Key Points:\n",
    "\n",
    "* validity:             measuring the right things.\n",
    "* reliability:          measurements are consistent if repeated.\n",
    "* representation:       data reflects broader population.\n",
    "\n",
    "## Data Integrity\n",
    "\n",
    "Data is usable throughout its lifecycle.\n",
    "\n",
    "Key Points:\n",
    "* known provenance:         origin and history of data are known\n",
    "* well annotated:           meta data is usable, data dictionary\n",
    "* timely:                   data is new enough\n",
    "* complete:                 missing values\n",
    "* high volume:              enough data points for reliable analysis\n",
    "* atomic:                   data stored in smallest unit possible, no aggregations\n",
    "* consistent:               no change over time or systems\n",
    "* clear:                    well defined data, format understandable\n",
    "* dimension structured:     data organized over appropiate dimensions, allowing slicing (yymdd)\n",
    "\n",
    "## Data Cleaning\n",
    "\n",
    "Key Points:\n",
    "* handling NaNs:            remove or impute\n",
    "* outliers:                 remove or adjust\n",
    "* data types:               convert columns (datetime, string, int)\n",
    "* duplicates:               remove\n",
    "* standardize:              date, units etc.\n",
    "* inconsistencies:          spelling, capitalization, labels\n",
    "* normalize:                common scale (0-1)\n",
    "\n",
    "## Data Augmentation\n",
    "\n",
    "expand the dataset, to get more insights, make data more robust\n",
    "\n",
    "* extract info from column into new column\n",
    "* combine two columns to new column"
   ]
  }
 ],
 "metadata": {
  "language_info": {
   "name": "python"
  }
 },
 "nbformat": 4,
 "nbformat_minor": 2
}

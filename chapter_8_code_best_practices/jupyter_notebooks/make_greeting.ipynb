{
 "cells": [
  {
   "cell_type": "code",
   "execution_count": null,
   "metadata": {},
   "outputs": [],
   "source": [
    "# create a function that **returns** a greeting to any name passed in\n",
    "def make_greeting(a_name):\n",
    "    return(\"Hello \"+a_name)"
   ]
  },
  {
   "cell_type": "code",
   "execution_count": null,
   "metadata": {},
   "outputs": [],
   "source": [
    "# create a variable named author\n",
    "author = \"Susan E. McGregor\"\n",
    "\n",
    "# create another variable named editor\n",
    "editor = \"Jeff Bleiel\""
   ]
  },
  {
   "cell_type": "code",
   "execution_count": null,
   "metadata": {},
   "outputs": [],
   "source": [
    "# use my custom function, `greet_me()` to build and store\n",
    "# the \"Hello\" messages to each person\n",
    "author_greeting = make_greeting(author)\n",
    "editor_greeting = make_greeting(editor)"
   ]
  },
  {
   "cell_type": "code",
   "execution_count": null,
   "metadata": {},
   "outputs": [],
   "source": [
    "# now `print()` the greetings built and returned by each function call\n",
    "print(author_greeting)\n",
    "print(editor_greeting)"
   ]
  }
 ],
 "metadata": {
  "kernelspec": {
   "display_name": "Python 3 (ipykernel)",
   "language": "python",
   "name": "python3"
  },
  "language_info": {
   "codemirror_mode": {
    "name": "ipython",
    "version": 3
   },
   "file_extension": ".py",
   "mimetype": "text/x-python",
   "name": "python",
   "nbconvert_exporter": "python",
   "pygments_lexer": "ipython3",
   "version": "3.9.5"
  }
 },
 "nbformat": 4,
 "nbformat_minor": 4
}

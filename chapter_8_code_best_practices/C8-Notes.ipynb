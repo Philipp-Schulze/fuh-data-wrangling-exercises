{
 "cells": [
  {
   "cell_type": "markdown",
   "metadata": {},
   "source": [
    "# BEST PRACTICES\n",
    "\n",
    "## Book\n",
    "\n",
    "Key Points:\n",
    "\n",
    "* Custom Functions:\n",
    "  * when needed multiple times\n",
    "  * descriptive names\n",
    "  * use DF in CF\n",
    "* Scope:\n",
    "  * names used inside and outside of CF\n",
    "  * double naming: glob vars are a risk\n",
    "* Arguments:\n",
    "  * check input data types\n",
    "  * try ecept for errors\n",
    "  * users problem\n",
    "* Return Values:\n",
    "  * do other stuff than print\n",
    "  * can return any data type\n",
    "* Stack:\n",
    "  * nesting different CFs\n",
    "  * so called function stack\n",
    "  * must still be readable\n",
    "* Global Vars:\n",
    "  * acces inside whole script\n",
    "  * first line define, second line assign value\n",
    "  * not too many, names overlapping\n",
    "* PYDOC:\n",
    "  * print the description of a script or CF\n",
    "  * ''' text ''' at beginning\n",
    "  * output via cmd line"
   ]
  }
 ],
 "metadata": {
  "language_info": {
   "name": "python"
  }
 },
 "nbformat": 4,
 "nbformat_minor": 2
}

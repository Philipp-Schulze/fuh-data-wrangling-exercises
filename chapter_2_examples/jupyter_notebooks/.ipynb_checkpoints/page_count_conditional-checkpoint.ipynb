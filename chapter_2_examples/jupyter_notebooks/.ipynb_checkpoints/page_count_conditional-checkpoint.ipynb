{
 "cells": [
  {
   "cell_type": "code",
   "execution_count": null,
   "metadata": {},
   "outputs": [],
   "source": [
    "# fictional list of chapter page counts\n",
    "page_counts = [28, 32, 44, 23, 56, 32, 12, 34, 30]\n",
    "\n",
    "# create variables to keep track of:\n",
    "# the total pages in the book\n",
    "total_pages = 0\n",
    "\n",
    "# the number of chapters with more than 30 pages,\n",
    "under_30 = 0\n",
    "\n",
    "# the number of chapters with fewer than 30 pages\n",
    "over_30 = 0\n",
    "\n",
    "# for every item in the page_counts list:\n",
    "for a_number in page_counts:\n",
    "    # add the current number of pages to our total_pages count\n",
    "    total_pages = total_pages + a_number\n",
    "    # check if the current number of pages is more than 30\n",
    "    if a_number > 30:\n",
    "        # if so, add 1 to our over_30 counter\n",
    "        over_30 = over_30 + 1\n",
    "    # otherwise...\n",
    "    else:\n",
    "        # add 1 to our under_30 counter\n",
    "        under_30 = under_30 + 1\n",
    "\n",
    "# print our various results\n",
    "print(total_pages)\n",
    "print(\"Number of chapters over 30 pages:\")\n",
    "print(over_30)\n",
    "print(\"Number of chapters under 30 pages:\")\n",
    "print(under_30)"
   ]
  }
 ],
 "metadata": {
  "kernelspec": {
   "display_name": "Python 3 (ipykernel)",
   "language": "python",
   "name": "python3"
  },
  "language_info": {
   "codemirror_mode": {
    "name": "ipython",
    "version": 3
   },
   "file_extension": ".py",
   "mimetype": "text/x-python",
   "name": "python",
   "nbconvert_exporter": "python",
   "pygments_lexer": "ipython3",
   "version": "3.9.5"
  }
 },
 "nbformat": 4,
 "nbformat_minor": 4
}

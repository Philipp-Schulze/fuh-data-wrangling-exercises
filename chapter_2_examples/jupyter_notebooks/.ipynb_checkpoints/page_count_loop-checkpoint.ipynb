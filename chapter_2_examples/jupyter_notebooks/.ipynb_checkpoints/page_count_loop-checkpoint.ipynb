{
 "cells": [
  {
   "cell_type": "code",
   "execution_count": null,
   "metadata": {},
   "outputs": [],
   "source": [
    "# fictional list of chapter page counts\n",
    "page_counts = [28, 32, 44, 23, 56, 32, 12, 34, 30]\n",
    "\n",
    "# variable for tracking total page count; starting value is 0\n",
    "total_pages = 0\n",
    "\n",
    "# for every item in the list, perform some action\n",
    "for a_number in page_counts:\n",
    "\n",
    " # in this case, add the number to our \"total_pages\" variable\n",
    " total_pages = total_pages + a_number\n",
    "\n",
    "print(total_pages)"
   ]
  }
 ],
 "metadata": {
  "kernelspec": {
   "display_name": "Python 3 (ipykernel)",
   "language": "python",
   "name": "python3"
  },
  "language_info": {
   "codemirror_mode": {
    "name": "ipython",
    "version": 3
   },
   "file_extension": ".py",
   "mimetype": "text/x-python",
   "name": "python",
   "nbconvert_exporter": "python",
   "pygments_lexer": "ipython3",
   "version": "3.9.5"
  }
 },
 "nbformat": 4,
 "nbformat_minor": 4
}

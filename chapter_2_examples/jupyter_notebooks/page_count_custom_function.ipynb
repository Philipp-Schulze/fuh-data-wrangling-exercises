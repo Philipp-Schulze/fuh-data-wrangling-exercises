{
 "cells": [
  {
   "cell_type": "code",
   "execution_count": null,
   "id": "9cbb94aa",
   "metadata": {},
   "outputs": [],
   "source": [
    "# fictional list of chapter page counts\n",
    "page_counts = [28, 32, 44, 23, 56, 32, 12, 34, 30]"
   ]
  },
  {
   "cell_type": "code",
   "execution_count": null,
   "id": "93f3c196",
   "metadata": {},
   "outputs": [],
   "source": [
    "# define a new `count_pages()` function that takes one ingredient/argument:\n",
    "# a list of numbers\n",
    "def count_pages(page_count_list):\n",
    "\n",
    "    # create variables to keep track of:\n",
    "    # the total pages in the book\n",
    "    total_pages = 0\n",
    "\n",
    "    # the number of chapters with more than 30 pages,\n",
    "    under_30 = 0\n",
    "\n",
    "    # the number of chapters with fewer than 30 pages\n",
    "    over_30 = 0\n",
    "\n",
    "    # for every item in the page_count_list:\n",
    "    for a_number in page_count_list:\n",
    "\n",
    "        # add the current number of pages to our total_pages count\n",
    "        total_pages = total_pages + a_number\n",
    "\n",
    "        # check if the current number of pages is more than 30\n",
    "        if a_number > 30:\n",
    "\n",
    "            # if so, add 1 to our over_30 counter\n",
    "            over_30 = over_30 + 1\n",
    "\n",
    "            # otherwise...\n",
    "        else:\n",
    "\n",
    "            # add 1 to our under_30 counter\n",
    "            under_30 = under_30 + 1\n",
    "\n",
    "    # print our various results\n",
    "    print(total_pages)\n",
    "    print(\"Number of chapters over 30 pages:\")\n",
    "    print(over_30)\n",
    "    print(\"Number of chapters under 30 pages:\")\n",
    "    print(under_30)"
   ]
  },
  {
   "cell_type": "code",
   "execution_count": null,
   "id": "1baf12a0",
   "metadata": {},
   "outputs": [],
   "source": [
    "# call/execute this \"recipe\", being sure to pass in our\n",
    "# actual list as an argument/ingredient\n",
    "count_pages(page_counts)"
   ]
  }
 ],
 "metadata": {
  "kernelspec": {
   "display_name": "Python 3 (ipykernel)",
   "language": "python",
   "name": "python3"
  },
  "language_info": {
   "codemirror_mode": {
    "name": "ipython",
    "version": 3
   },
   "file_extension": ".py",
   "mimetype": "text/x-python",
   "name": "python",
   "nbconvert_exporter": "python",
   "pygments_lexer": "ipython3",
   "version": "3.9.5"
  }
 },
 "nbformat": 4,
 "nbformat_minor": 5
}

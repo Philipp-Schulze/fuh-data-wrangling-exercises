{
 "cells": [
  {
   "cell_type": "markdown",
   "metadata": {
    "colab_type": "text",
    "id": "view-in-github"
   },
   "source": [
    "<a href=\"https://colab.research.google.com/github/susanemcg/data_wrangling_exercises/blob/master/chapter_4_examples/jupyter_notebooks/fixed_width_parsing.ipynb\" target=\"_parent\"><img src=\"https://colab.research.google.com/assets/colab-badge.svg\" alt=\"Open In Colab\"/></a>"
   ]
  },
  {
   "cell_type": "code",
   "execution_count": null,
   "metadata": {
    "id": "9089gNFOmiiB"
   },
   "outputs": [],
   "source": [
    "# An example of reading data from a fixed-width file with Python.\n",
    "# The source file for this example comes from NOAA and can be accessed here:\n",
    "# https://www1.ncdc.noaa.gov/pub/data/ghcn/daily/ghcnd-stations.txt\n",
    "# The metadata for the file can be found here:\n",
    "# https://www1.ncdc.noaa.gov/pub/data/ghcn/daily/readme.txt"
   ]
  },
  {
   "cell_type": "code",
   "execution_count": null,
   "metadata": {
    "id": "xOzMutfLmiiR"
   },
   "outputs": [],
   "source": [
    "# import the `csv` library, to create our output file\n",
    "import csv"
   ]
  },
  {
   "cell_type": "code",
   "execution_count": null,
   "metadata": {
    "id": "EhAaXFrZmqk7"
   },
   "outputs": [],
   "source": [
    "# # UNCOMMENT BELOW TO USE WITH GOOGLE COLAB\n",
    "# # Import PyDrive and associated libraries.\n",
    "# # This only needs to be done once per notebook.\n",
    "# # Documentation found here: https://colab.research.google.com/notebooks/io.ipynb#scrollTo=7taylj9wpsA2\n",
    "# from pydrive.auth import GoogleAuth\n",
    "# from pydrive.drive import GoogleDrive\n",
    "# from google.colab import auth\n",
    "# from oauth2client.client import GoogleCredentials\n",
    "\n",
    "# # Authenticate and create the PyDrive client.\n",
    "# # This only needs to be done once per notebook.\n",
    "# auth.authenticate_user()\n",
    "# gauth = GoogleAuth()\n",
    "# gauth.credentials = GoogleCredentials.get_application_default()\n",
    "# drive = GoogleDrive(gauth)"
   ]
  },
  {
   "cell_type": "code",
   "execution_count": null,
   "metadata": {
    "id": "Z7yOkzklngcO"
   },
   "outputs": [],
   "source": [
    "# # UNCOMMENT BELOW TO USE WITH GOOGLE COLAB\n",
    "# # Link to data file stored in Drive: https://drive.google.com/file/d/1nhYjc6ZadE9bPk-6pzv99gIzSudBmHGm/view?usp=sharing\n",
    "# file_id = '1nhYjc6ZadE9bPk-6pzv99gIzSudBmHGm' # notice where this string comes from in link above\n",
    "\n",
    "# imported_file = drive.CreateFile({'id': file_id}) # creating an accessible copy of the shared data file\n",
    "# print(imported_file['title'])  # it should print the title of desired file\n",
    "# imported_file.GetContentFile(imported_file['title']) # refer to it in this notebook by the same name as it has in Drive"
   ]
  },
  {
   "cell_type": "code",
   "execution_count": null,
   "metadata": {
    "id": "s-7QvrNMmiiS"
   },
   "outputs": [],
   "source": [
    "filename = \"ghcnd-stations\"\n",
    "\n",
    "# reading from a basic text file doesn't require any special libraries\n",
    "# so we'll just open the file in read format (\"r\") as usual\n",
    "source_file = open(filename+\".txt\", \"r\")\n",
    "\n",
    "# the built-in \"readlines()\" method does just what you'd think:\n",
    "# it reads in a text file and converts it to a list of lines\n",
    "stations_list = source_file.readlines()\n",
    "\n",
    "# as usual, we'll create an output file to write to\n",
    "output_file = open(filename+\".csv\",\"w\")\n",
    "\n",
    "# and we'll use the `csv` library to create a \"writer\" that gives us handy\n",
    "# \"recipe\" functions for creating our new file in csv format\n",
    "output_writer = csv.writer(output_file)"
   ]
  },
  {
   "cell_type": "code",
   "execution_count": null,
   "metadata": {
    "id": "t91ssMZemiiT"
   },
   "outputs": [],
   "source": [
    "# create the header list\n",
    "headers = [\"ID\",\"LATITUDE\",\"LONGITUDE\",\"ELEVATION\",\"STATE\",\"NAME\",\"GSN_FLAG\",\n",
    " \"HCNCRN_FLAG\",\"WMO_ID\"]\n",
    "\n",
    "# write our headers to the output file\n",
    "output_writer.writerow(headers)"
   ]
  },
  {
   "cell_type": "code",
   "execution_count": null,
   "metadata": {
    "id": "mO3r6EzCmiiV"
   },
   "outputs": [],
   "source": [
    "# loop through each line of our file (multiple \"sheets\" are not possible)\n",
    "for line in stations_list:\n",
    "    # create an empty list, to which we'll append each set of characters that\n",
    "    # makes up a given \"column\" of data\n",
    "    new_row = []\n",
    "    # ID: positions 1-11\n",
    "    new_row.append(line[0:11])\n",
    "    # LATITUDE: positions 13-20\n",
    "    new_row.append(line[12:20])\n",
    "    # LONGITUDE: positions 22-30\n",
    "    new_row.append(line[21:30])\n",
    "    # ELEVATION: positions 32-37\n",
    "    new_row.append(line[31:37])\n",
    "    # STATE: positions 39-40\n",
    "    new_row.append(line[38:40])\n",
    "    # NAME: positions 42-71\n",
    "    new_row.append(line[41:71])\n",
    "    # GSN_FLAG: positions 73-75\n",
    "    new_row.append(line[72:75])\n",
    "    # HCNCRN_FLAG: positions 77-79\n",
    "    new_row.append(line[76:79])\n",
    "    # WMO_ID: positions 81-85\n",
    "    new_row.append(line[80:85])\n",
    "\n",
    "    # now all that's left is to use the\n",
    "    # `writerow` function to write new_row to our output file\n",
    "    output_writer.writerow(new_row)"
   ]
  },
  {
   "cell_type": "code",
   "execution_count": null,
   "metadata": {},
   "outputs": [],
   "source": [
    "# officially close the `.csv` file we just wrote all that data to\n",
    "output_file.close()"
   ]
  },
  {
   "cell_type": "code",
   "execution_count": null,
   "metadata": {
    "id": "Hs2r0SZloRNO"
   },
   "outputs": [],
   "source": [
    "# # UNCOMMENT BELOW TO USE WITH GOOGLE COLAB\n",
    "# from google.colab import files\n",
    "\n",
    "# files.download(filename+\".csv\")"
   ]
  }
 ],
 "metadata": {
  "colab": {
   "include_colab_link": true,
   "name": "fixed_width_parsing.ipynb",
   "provenance": []
  },
  "kernelspec": {
   "display_name": "Python 3 (ipykernel)",
   "language": "python",
   "name": "python3"
  },
  "language_info": {
   "codemirror_mode": {
    "name": "ipython",
    "version": 3
   },
   "file_extension": ".py",
   "mimetype": "text/x-python",
   "name": "python",
   "nbconvert_exporter": "python",
   "pygments_lexer": "ipython3",
   "version": "3.9.5"
  }
 },
 "nbformat": 4,
 "nbformat_minor": 1
}

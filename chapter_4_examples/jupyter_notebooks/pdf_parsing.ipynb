{
 "cells": [
  {
   "cell_type": "code",
   "execution_count": 1,
   "metadata": {
    "id": "ICb03FmBrDH8"
   },
   "outputs": [],
   "source": [
    "# A basic example of reading data from a .pdf file with Python,\n",
    "# using `pdf2image` to convert it to images, and then using the\n",
    "# openCV and `tesseract` libraries to extract the text\n",
    "# The source data was downloaded from:\n",
    "# https://files.stlouisfed.org/files/htdocs/publications/page1-econ/2020/12/01/ \\\n",
    "# unemployment-insurance-a-tried-and-true-safety-net_SE.pdf"
   ]
  },
  {
   "cell_type": "code",
   "execution_count": 2,
   "metadata": {
    "colab": {
     "base_uri": "https://localhost:8080/"
    },
    "id": "5KQV5G_Xrl08",
    "outputId": "7266c264-d6fd-45f8-e6ee-b4bc787cbc4b"
   },
   "outputs": [],
   "source": [
    "# # UNCOMMENT BELOW TO USE WITH GOOGLE COLAB\n",
    "# !apt install poppler-utils\n",
    "# !pip install pdf2image\n",
    "# !apt-get install tesseract-ocr\n",
    "# !pip install pytesseract\n",
    "# !pip install opencv-python\n",
    "\n",
    "\n",
    "# from google.colab import files"
   ]
  },
  {
   "cell_type": "code",
   "execution_count": 3,
   "metadata": {
    "id": "afncSgWmrDII"
   },
   "outputs": [],
   "source": [
    "# the built-in `operating system` or `os` Python library will let us create\n",
    "# a new folder in which to store our converted images and output text\n",
    "import os\n",
    "\n",
    "# we'll import the `convert_from_path` \"chapter\" of the `pdf2image` library\n",
    "from pdf2image import convert_from_path\n",
    "\n",
    "# the built-in `glob`library offers a handy way to loop through all the files\n",
    "# in a folder that have a certain file extension, for example\n",
    "import glob\n",
    "\n",
    "# `cv2` is the actual library name for `openCV`\n",
    "import cv2\n",
    "\n",
    "# and of course, we need our Python library for interfacing\n",
    "# with the tesseract OCR process\n",
    "import pytesseract"
   ]
  },
  {
   "cell_type": "code",
   "execution_count": 4,
   "metadata": {
    "id": "g_F_R1NtrDIK"
   },
   "outputs": [],
   "source": [
    "# we'll use the pdf name to name both our generated images and text files\n",
    "pdf_name = \"SafetyNet\"\n",
    "\n",
    "# our source pdf is in the same folder as our Python script\n",
    "pdf_source_file = pdf_name+\".pdf\"\n",
    "\n",
    "# as long as a folder with the same name as the pdf does not already exist\n",
    "if os.path.isdir(pdf_name) == False:\n",
    "    # create a new folder with that name\n",
    "    target_folder = os.mkdir(pdf_name)"
   ]
  },
  {
   "cell_type": "code",
   "execution_count": 5,
   "metadata": {
    "id": "HjnJgd_DrP3K"
   },
   "outputs": [],
   "source": [
    "# # UNCOMMENT BELOW TO USE WITH GOOGLE COLAB\n",
    "# # Import PyDrive and associated libraries.\n",
    "# # This only needs to be done once per notebook.\n",
    "# # Documentation found here: https://colab.research.google.com/notebooks/io.ipynb#scrollTo=7taylj9wpsA2\n",
    "# from pydrive.auth import GoogleAuth\n",
    "# from pydrive.drive import GoogleDrive\n",
    "# from google.colab import auth\n",
    "# from oauth2client.client import GoogleCredentials\n",
    "\n",
    "# # Authenticate and create the PyDrive client.\n",
    "# # This only needs to be done once per notebook.\n",
    "# auth.authenticate_user()\n",
    "# gauth = GoogleAuth()\n",
    "# gauth.credentials = GoogleCredentials.get_application_default()\n",
    "# drive = GoogleDrive(gauth)"
   ]
  },
  {
   "cell_type": "code",
   "execution_count": 6,
   "metadata": {
    "colab": {
     "base_uri": "https://localhost:8080/"
    },
    "id": "WIIGo9_xrVFQ",
    "outputId": "35935d07-921d-47a4-dbe0-72aa4163c43b"
   },
   "outputs": [],
   "source": [
    "# # UNCOMMENT BELOW TO USE WITH GOOGLE COLAB\n",
    "# # Link to data file stored in Drive: https://drive.google.com/file/d/1g_9uFjI0abxLt_FrEojF150dZqEZvco5/view?usp=sharing\n",
    "# file_id = '1g_9uFjI0abxLt_FrEojF150dZqEZvco5' # notice where this string comes from in link above\n",
    "\n",
    "# imported_file = drive.CreateFile({'id': file_id}) # creating an accessible copy of the shared data file\n",
    "# print(imported_file['title'])  # it should print the title of desired file\n",
    "# imported_file.GetContentFile(imported_file['title']) # refer to it in this notebook by the same name as it has in Drive"
   ]
  },
  {
   "cell_type": "code",
   "execution_count": 7,
   "metadata": {
    "id": "42p89aCvrDIL"
   },
   "outputs": [],
   "source": [
    "# store all the pages of the PDF in a variable\n",
    "pages = convert_from_path(pdf_source_file, 300)"
   ]
  },
  {
   "cell_type": "code",
   "execution_count": 8,
   "metadata": {
    "id": "6_m4XMFKrDIM"
   },
   "outputs": [],
   "source": [
    "# loop through all the converted pages, enumerating them so that the page\n",
    "# number can be used to label the resulting images\n",
    "for page_num, page in enumerate(pages):\n",
    "    # create unique filenames for each page image, combining the\n",
    "    # folder name and the page number\n",
    "    filename = os.path.join(pdf_name,\"p\"+str(page_num)+\".png\")\n",
    "    # save the image of the page in system\n",
    "    page.save(filename, 'PNG')"
   ]
  },
  {
   "cell_type": "code",
   "execution_count": 9,
   "metadata": {
    "colab": {
     "base_uri": "https://localhost:8080/",
     "height": 17
    },
    "id": "7G1XmYyUrDIN",
    "outputId": "5aa3232a-7624-4fd3-812a-633e87014634"
   },
   "outputs": [],
   "source": [
    "# next, go through all the files in the folder that end in `.png`\n",
    "for img_file in glob.glob(os.path.join(pdf_name, '*.png')):\n",
    "    # replace the slash in the image's filename with a dot\n",
    "    temp_name = img_file.replace(\"/\",\".\")\n",
    "    # pull the unique page name (e.g. `p2`) from the `temp_name`\n",
    "    text_filename = temp_name.split(\".\")[1]\n",
    "    # now! create a new, writable file, also in our target folder, that\n",
    "    # has the same name as the image, but is a `.txt` file\n",
    "    output_file = open(os.path.join(pdf_name,text_filename+\".txt\"), \"w\")\n",
    "    # use the `cv2` library to interpret our image\n",
    "    img = cv2.imread(img_file)\n",
    "    # create a new variable to hold the results of using pytesseract's\n",
    "    # `image_to_string()` function, which will do just that\n",
    "    converted_text = pytesseract.image_to_string(img)\n",
    "    # write our extracted text to our output file\n",
    "    output_file.write(converted_text)\n",
    "    # close the output file\n",
    "    output_file.close()\n",
    "\n",
    "    # # UNCOMMENT BELOW TO USE WITH GOOGLE COLAB\n",
    "    # files.download(os.path.join(pdf_name,text_filename+\".txt\"))"
   ]
  }
 ],
 "metadata": {
  "colab": {
   "name": "pdf_parsing.ipynb",
   "provenance": []
  },
  "kernelspec": {
   "display_name": "Python 3 (ipykernel)",
   "language": "python",
   "name": "python3"
  },
  "language_info": {
   "codemirror_mode": {
    "name": "ipython",
    "version": 3
   },
   "file_extension": ".py",
   "mimetype": "text/x-python",
   "name": "python",
   "nbconvert_exporter": "python",
   "pygments_lexer": "ipython3",
   "version": "3.9.5"
  }
 },
 "nbformat": 4,
 "nbformat_minor": 1
}

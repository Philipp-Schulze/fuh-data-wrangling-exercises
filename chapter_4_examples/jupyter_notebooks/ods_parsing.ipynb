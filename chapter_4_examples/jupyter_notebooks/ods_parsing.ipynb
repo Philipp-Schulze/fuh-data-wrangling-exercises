{
 "cells": [
  {
   "cell_type": "code",
   "execution_count": null,
   "metadata": {
    "id": "S1EMWUO0qhyJ"
   },
   "outputs": [],
   "source": [
    "# An example of reading data from an .ods file with Python, using the\n",
    "# \"pyexcel_ods\" library. First, you'll need to pip install the library:\n",
    "# https://pypi.org/project/pyexcel-ods/"
   ]
  },
  {
   "cell_type": "code",
   "execution_count": null,
   "metadata": {
    "id": "zV5zdySHqhyd"
   },
   "outputs": [],
   "source": [
    "# specify the \"chapter\" of the \"pyexcel_ods\" library you want to import,\n",
    "# in this case, `get_data`\n",
    "from pyexcel_ods import get_data\n",
    "\n",
    "# import the `csv` library, to create our output file\n",
    "import csv"
   ]
  },
  {
   "cell_type": "code",
   "execution_count": null,
   "metadata": {
    "id": "OC3fE-Q3qlOO"
   },
   "outputs": [],
   "source": [
    "# # UNCOMMENT BELOW TO USE WITH GOOGLE COLAB\n",
    "# # Import PyDrive and associated libraries.\n",
    "# # This only needs to be done once per notebook.\n",
    "# # Documentation found here: https://colab.research.google.com/notebooks/io.ipynb#scrollTo=7taylj9wpsA2\n",
    "# from pydrive.auth import GoogleAuth\n",
    "# from pydrive.drive import GoogleDrive\n",
    "# from google.colab import auth\n",
    "# from oauth2client.client import GoogleCredentials\n",
    "\n",
    "# # Authenticate and create the PyDrive client.\n",
    "# # This only needs to be done once per notebook.\n",
    "# auth.authenticate_user()\n",
    "# gauth = GoogleAuth()\n",
    "# gauth.credentials = GoogleCredentials.get_application_default()\n",
    "# drive = GoogleDrive(gauth)"
   ]
  },
  {
   "cell_type": "code",
   "execution_count": null,
   "metadata": {
    "id": "M9VOwqAxql6G"
   },
   "outputs": [],
   "source": [
    "# # UNCOMMENT BELOW TO USE WITH GOOGLE COLAB\n",
    "# # Link to data file stored in Drive: https://drive.google.com/file/d/1GWAopzGgNEFVfraXaUh0vjVdUjQDqOtX/view?usp=sharing\n",
    "# file_id = '1GWAopzGgNEFVfraXaUh0vjVdUjQDqOtX' # notice where this string comes from in link above\n",
    "\n",
    "# imported_file = drive.CreateFile({'id': file_id}) # creating an accessible copy of the shared data file\n",
    "# print(imported_file['title'])  # it should print the title of desired file\n",
    "# imported_file.GetContentFile(imported_file['title']) # refer to it in this notebook by the same name as it has in Drive"
   ]
  },
  {
   "cell_type": "code",
   "execution_count": null,
   "metadata": {
    "id": "IbVifkneqhyg"
   },
   "outputs": [],
   "source": [
    "# pass our filename as an ingredient to the `pyexcel_ods` library's\n",
    "# `get_data()` \"recipe\"\n",
    "# store the result in a variable called `source_workbook`\n",
    "source_workbook = get_data(\"fredgraph.ods\")"
   ]
  },
  {
   "cell_type": "code",
   "execution_count": null,
   "metadata": {
    "id": "I6LWwmz-qhyh"
   },
   "outputs": [],
   "source": [
    "# an `.ods` workbook can have multiple sheets\n",
    "for sheet_name, sheet_data in source_workbook.items():\n",
    "\n",
    "    # print `sheet_name`, just to see what it is\n",
    "    print(sheet_name)\n",
    "\n",
    "    # create \"ods_\"+sheet_name+\".csv\" as an output file for the current sheet\n",
    "    output_file = open(\"ods_\"+sheet_name+\".csv\",\"w\")\n",
    "\n",
    "    # use this csv library's \"writer\" recipe to easily write rows of data\n",
    "    # to `output_file`, instead of reading data *from* it\n",
    "    output_writer = csv.writer(output_file)\n",
    "\n",
    "    # now, we need to loop through every row in our sheet\n",
    "    for row in sheet_data:\n",
    "\n",
    "        # use the `writerow` recipe to write each `row`\n",
    "        # directly to our output file\n",
    "        output_writer.writerow(row)"
   ]
  },
  {
   "cell_type": "code",
   "execution_count": null,
   "metadata": {},
   "outputs": [],
   "source": [
    "# officially close the `.csv` file we just wrote all that data to\n",
    "output_file.close()"
   ]
  },
  {
   "cell_type": "code",
   "execution_count": null,
   "metadata": {
    "id": "mKrtVpCZqyfM"
   },
   "outputs": [],
   "source": [
    "# # UNCOMMENT BELOW TO USE WITH GOOGLE COLAB\n",
    "# from google.colab import files\n",
    "\n",
    "# files.download(\"ods_\"+sheet_name+\".csv\")"
   ]
  }
 ],
 "metadata": {
  "colab": {
   "name": "ods_parsing.ipynb",
   "provenance": []
  },
  "kernelspec": {
   "display_name": "Python 3 (ipykernel)",
   "language": "python",
   "name": "python3"
  },
  "language_info": {
   "codemirror_mode": {
    "name": "ipython",
    "version": 3
   },
   "file_extension": ".py",
   "mimetype": "text/x-python",
   "name": "python",
   "nbconvert_exporter": "python",
   "pygments_lexer": "ipython3",
   "version": "3.9.5"
  }
 },
 "nbformat": 4,
 "nbformat_minor": 1
}

{
 "cells": [
  {
   "cell_type": "code",
   "execution_count": null,
   "metadata": {
    "id": "WP8AClqxwCjx"
   },
   "outputs": [],
   "source": [
    "# A simple example of reading data from a .tsv file with Python, using\n",
    "# the `csv` library. The source data was downloaded as a .tsv file\n",
    "# from Jed Shugerman's Google Sheet on prosecutor politicians:\n",
    "# https://docs.google.com/spreadsheets/d/1E6Z-jZWbrKmit_4lG36oyQ658Ta6Mh25HCOBaz7YVrA/\n",
    "# The original .tsv file was renamed with a file extension of .txt"
   ]
  },
  {
   "cell_type": "code",
   "execution_count": null,
   "metadata": {
    "id": "LUUye7OVwCj-"
   },
   "outputs": [],
   "source": [
    "# import the `csv` library\n",
    "import csv"
   ]
  },
  {
   "cell_type": "code",
   "execution_count": null,
   "metadata": {
    "id": "k-Vir6pFwFet"
   },
   "outputs": [],
   "source": [
    "# # UNCOMMENT BELOW TO USE WITH GOOGLE COLAB\n",
    "# # Import PyDrive and associated libraries.\n",
    "# # This only needs to be done once per notebook.\n",
    "# # Documentation found here: https://colab.research.google.com/notebooks/io.ipynb#scrollTo=7taylj9wpsA2\n",
    "# from pydrive.auth import GoogleAuth\n",
    "# from pydrive.drive import GoogleDrive\n",
    "# from google.colab import auth\n",
    "# from oauth2client.client import GoogleCredentials\n",
    "\n",
    "# # Authenticate and create the PyDrive client.\n",
    "# # This only needs to be done once per notebook.\n",
    "# auth.authenticate_user()\n",
    "# gauth = GoogleAuth()\n",
    "# gauth.credentials = GoogleCredentials.get_application_default()\n",
    "# drive = GoogleDrive(gauth)"
   ]
  },
  {
   "cell_type": "code",
   "execution_count": null,
   "metadata": {
    "id": "2MHU9QFZwFhd"
   },
   "outputs": [],
   "source": [
    "# # UNCOMMENT BELOW TO USE WITH GOOGLE COLAB\n",
    "# # Link to data file stored in Drive: https://drive.google.com/file/d/11ebD1e3sMeNZk1TN8zBdgzKt5kneA46x/view?usp=sharing\n",
    "# file_id = '11ebD1e3sMeNZk1TN8zBdgzKt5kneA46x' # notice where this string comes from in link above\n",
    "\n",
    "# imported_file = drive.CreateFile({'id': file_id}) # creating an accessible copy of the shared data file\n",
    "# print(imported_file['title'])  # it should print the title of desired file\n",
    "# imported_file.GetContentFile(imported_file['title']) # refer to it in this notebook by the same name as it has in Drive"
   ]
  },
  {
   "cell_type": "code",
   "execution_count": null,
   "metadata": {
    "id": "iiIeb4H8wE5D"
   },
   "outputs": [],
   "source": [
    "# open the `ShugermanProsecutorPoliticians-SupremeCourtJustices.txt` file\n",
    "# in read (\"r\") mode.\n",
    "# This file should be in the same folder as our Python script or notebook\n",
    "txt_source_file = open(\"ShugermanProsecutorPoliticians-SupremeCourtJustices.txt\",\"r\")"
   ]
  },
  {
   "cell_type": "code",
   "execution_count": null,
   "metadata": {
    "id": "MjKUweHJwCkA"
   },
   "outputs": [],
   "source": [
    "# pass our tsv_source_file as an ingredient to the the csv library's DictReader\n",
    "# \"recipe\" and store the result in a variable called `politicians_reader`\n",
    "# add the \"delimiter\" parameter and specify the tab character, \"\\t\"\n",
    "politicians_reader = csv.DictReader(txt_source_file, delimiter='\\t')"
   ]
  },
  {
   "cell_type": "code",
   "execution_count": null,
   "metadata": {
    "id": "5ZMYcSmzwCkB"
   },
   "outputs": [],
   "source": [
    "# the DictReader function has added useful information to our data,\n",
    "# like a label that shows us all the values in the first or \"header\" row\n",
    "print(politicians_reader.fieldnames)"
   ]
  },
  {
   "cell_type": "code",
   "execution_count": null,
   "metadata": {
    "id": "AQTxjIMawCkC"
   },
   "outputs": [],
   "source": [
    "# we'll use the `next()` function to print just the first row of data\n",
    "print (next(politicians_reader))"
   ]
  }
 ],
 "metadata": {
  "colab": {
   "name": "txt_parsing.ipynb",
   "provenance": []
  },
  "kernelspec": {
   "display_name": "Python 3 (ipykernel)",
   "language": "python",
   "name": "python3"
  },
  "language_info": {
   "codemirror_mode": {
    "name": "ipython",
    "version": 3
   },
   "file_extension": ".py",
   "mimetype": "text/x-python",
   "name": "python",
   "nbconvert_exporter": "python",
   "pygments_lexer": "ipython3",
   "version": "3.9.5"
  }
 },
 "nbformat": 4,
 "nbformat_minor": 1
}

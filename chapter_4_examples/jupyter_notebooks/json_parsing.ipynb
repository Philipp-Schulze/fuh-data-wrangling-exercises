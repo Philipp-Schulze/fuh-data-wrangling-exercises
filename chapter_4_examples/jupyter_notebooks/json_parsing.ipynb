{
 "cells": [
  {
   "cell_type": "code",
   "execution_count": null,
   "metadata": {
    "id": "hPQTHSigpCzA"
   },
   "outputs": [],
   "source": [
    "# A simple example of reading data from a .json file with Python,\n",
    "# using the built-in \"json\" library. The data used here is an instance of\n",
    "# https://api.stlouisfed.org/fred/series/observations?series_id=U6RATE& \\\n",
    "# file_type=json&api_key=YOUR_API_KEY_HERE"
   ]
  },
  {
   "cell_type": "code",
   "execution_count": null,
   "metadata": {
    "id": "BPZHEAnLpCzR"
   },
   "outputs": [],
   "source": [
    "# import the `json` library, since that's our source file format\n",
    "import json\n",
    "\n",
    "# import the `csv` library, to create our output file\n",
    "import csv"
   ]
  },
  {
   "cell_type": "code",
   "execution_count": null,
   "metadata": {
    "id": "UMFO5mGopFWn"
   },
   "outputs": [],
   "source": [
    "# # UNCOMMENT BELOW TO USE WITH GOOGLE COLAB\n",
    "# # Import PyDrive and associated libraries.\n",
    "# # This only needs to be done once per notebook.\n",
    "# # Documentation found here: https://colab.research.google.com/notebooks/io.ipynb#scrollTo=7taylj9wpsA2\n",
    "# from pydrive.auth import GoogleAuth\n",
    "# from pydrive.drive import GoogleDrive\n",
    "# from google.colab import auth\n",
    "# from oauth2client.client import GoogleCredentials\n",
    "\n",
    "# # Authenticate and create the PyDrive client.\n",
    "# # This only needs to be done once per notebook.\n",
    "# auth.authenticate_user()\n",
    "# gauth = GoogleAuth()\n",
    "# gauth.credentials = GoogleCredentials.get_application_default()\n",
    "# drive = GoogleDrive(gauth)"
   ]
  },
  {
   "cell_type": "code",
   "execution_count": null,
   "metadata": {
    "id": "1kKhbauBpFas"
   },
   "outputs": [],
   "source": [
    "# # UNCOMMENT BELOW TO USE WITH GOOGLE COLAB\n",
    "# # Link to data file stored in Drive: https://drive.google.com/file/d/1Mpb2f5qYgHnKcU1sTxTmhOPHfzIdeBsq/view?usp=sharing\n",
    "# file_id = '1Mpb2f5qYgHnKcU1sTxTmhOPHfzIdeBsq' # notice where this string comes from in link above\n",
    "\n",
    "# imported_file = drive.CreateFile({'id': file_id}) # creating an accessible copy of the shared data file\n",
    "# print(imported_file['title'])  # it should print the title of desired file\n",
    "# imported_file.GetContentFile(imported_file['title']) # refer to it in this notebook by the same name as it has in Drive"
   ]
  },
  {
   "cell_type": "code",
   "execution_count": null,
   "metadata": {
    "id": "uLPLk_KBpCzT"
   },
   "outputs": [],
   "source": [
    "# choose a filename\n",
    "filename = \"U6_FRED_data\""
   ]
  },
  {
   "cell_type": "code",
   "execution_count": null,
   "metadata": {
    "id": "ExvrW2NApCzU"
   },
   "outputs": [],
   "source": [
    "# open the file in read format (\"r\") as usual\n",
    "json_source_file = open(filename+\".json\",\"r\")\n",
    "\n",
    "# pass the `json_source_file` as an ingredient to the json library's `load()`\n",
    "# method and store the result in a variable called `json_data`\n",
    "json_data = json.load(json_source_file)"
   ]
  },
  {
   "cell_type": "code",
   "execution_count": null,
   "metadata": {
    "id": "oZd1fmI3pCzW"
   },
   "outputs": [],
   "source": [
    "# create our output file, naming it \"json_\"+filename\n",
    "output_file = open(\"json_\"+filename+\".csv\",\"w\")\n",
    "\n",
    "# use the `csv` library's \"writer\" recipe to easily write rows of data\n",
    "# to `output_file`, instead of reading data *from* it\n",
    "output_writer = csv.writer(output_file)"
   ]
  },
  {
   "cell_type": "code",
   "execution_count": null,
   "metadata": {
    "id": "wCICAW19pCzX"
   },
   "outputs": [],
   "source": [
    "# grab the first element (at position \"0\"), and use its keys as the column headers\n",
    "output_writer.writerow(list(json_data[\"observations\"][0].keys()))"
   ]
  },
  {
   "cell_type": "code",
   "execution_count": null,
   "metadata": {
    "id": "WLK4_ki1pCza"
   },
   "outputs": [],
   "source": [
    "for obj in json_data[\"observations\"]:\n",
    "\n",
    "    # we'll create an empty list where we'll put the actual values of each object\n",
    "    obj_values = []\n",
    "\n",
    "    # for every `key` (which will become a column), in each object\n",
    "    for key, value in obj.items():\n",
    "\n",
    "        # let's print what's in here, just to see how the code sees it\n",
    "        print(key,value)\n",
    "\n",
    "        # add the values to our list\n",
    "        obj_values.append(value)\n",
    "\n",
    "    # now we've got the whole row, write the data to our output file\n",
    "    output_writer.writerow(obj_values)"
   ]
  },
  {
   "cell_type": "code",
   "execution_count": null,
   "metadata": {
    "id": "4hWTpLmwpCzc"
   },
   "outputs": [],
   "source": [
    "# officially close the `.csv` file we just wrote all that data to\n",
    "output_file.close()"
   ]
  },
  {
   "cell_type": "code",
   "execution_count": null,
   "metadata": {
    "id": "NA4Pbzz4qQXZ"
   },
   "outputs": [],
   "source": [
    "# # UNCOMMENT BELOW TO USE WITH GOOGLE COLAB\n",
    "# from google.colab import files\n",
    "\n",
    "# files.download(\"json_\"+filename+\".csv\")"
   ]
  }
 ],
 "metadata": {
  "colab": {
   "name": "json_parsing.ipynb",
   "provenance": []
  },
  "kernelspec": {
   "display_name": "Python 3 (ipykernel)",
   "language": "python",
   "name": "python3"
  },
  "language_info": {
   "codemirror_mode": {
    "name": "ipython",
    "version": 3
   },
   "file_extension": ".py",
   "mimetype": "text/x-python",
   "name": "python",
   "nbconvert_exporter": "python",
   "pygments_lexer": "ipython3",
   "version": "3.9.5"
  }
 },
 "nbformat": 4,
 "nbformat_minor": 1
}

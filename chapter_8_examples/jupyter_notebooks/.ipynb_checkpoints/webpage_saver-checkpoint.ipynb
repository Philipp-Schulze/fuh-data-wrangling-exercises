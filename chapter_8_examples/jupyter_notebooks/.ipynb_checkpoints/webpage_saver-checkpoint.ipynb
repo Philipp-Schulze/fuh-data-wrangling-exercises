{
 "cells": [
  {
   "cell_type": "code",
   "execution_count": null,
   "metadata": {},
   "outputs": [],
   "source": [
    "\"\"\" Web page Saver!\n",
    "Downloads the contents of a web page and saves it locally\n",
    "\n",
    "Usage\n",
    "-----\n",
    "python webpage_saver.py target_url filename\n",
    "\n",
    "Parameters\n",
    "----------\n",
    "target_url : str\n",
    " The full URL of the web page to be downloaded\n",
    "filename : str\n",
    " The desired filename of the local copy\n",
    "\n",
    "Requirements\n",
    "------------\n",
    "* argparse module\n",
    "* requests module\n",
    "\"\"\""
   ]
  },
  {
   "cell_type": "code",
   "execution_count": null,
   "metadata": {},
   "outputs": [],
   "source": [
    "# include the requests library in order to get data from the web\n",
    "import requests\n",
    "\n",
    "# include argparse library to pull arguments from the command line\n",
    "import argparse"
   ]
  },
  {
   "cell_type": "code",
   "execution_count": null,
   "metadata": {},
   "outputs": [],
   "source": [
    "# We will imitate the idea of passing in command line arguments here by populating the \n",
    "# sys.argv property manually. While this works, it somewhat defeats the purpose of\n",
    "# this type of file structure (though it does at least make the variables that need\n",
    "# changing easy to find!)\n",
    "import sys\n",
    "sys.argv=[\"webpage_save.ipynb\",\"http://web.mta.info/developers/turnstile.html\",\"MTA_turnstiles_index.html\"]"
   ]
  },
  {
   "cell_type": "code",
   "execution_count": null,
   "metadata": {},
   "outputs": [],
   "source": [
    "# create a new `ArgumentParser()`\n",
    "parser = argparse.ArgumentParser()\n",
    "\n",
    "# arguments will be assigned based on the order in which they were provided\n",
    "parser.add_argument(\"target_url\", help=\"Full URL of web page to be downloaded\")\n",
    "parser.add_argument(\"filename\", help=\"The desired filename of the local copy\")\n",
    "args = parser.parse_args()\n",
    "\n",
    "# pull the url of the web page we're downloading from the provided arguments\n",
    "target_url = args.target_url\n",
    "\n",
    "# pull the intended output filename from the provided arguments\n",
    "output_filename = args.filename"
   ]
  },
  {
   "cell_type": "code",
   "execution_count": null,
   "metadata": {},
   "outputs": [],
   "source": [
    "# create appropriate header information for our web page request\n",
    "headers = {\n",
    " 'User-Agent': 'Mozilla/5.0 (X11; CrOS x86_64 13597.66.0) ' + \\\n",
    " 'AppleWebKit/537.36 (KHTML, like Gecko) ' + \\\n",
    " 'Chrome/88.0.4324.109 Safari/537.36',\n",
    " 'From': 'YOUR NAME HERE - youremailaddress@emailprovider.som'\n",
    "}"
   ]
  },
  {
   "cell_type": "code",
   "execution_count": null,
   "metadata": {},
   "outputs": [],
   "source": [
    "# because we're just loading a regular web page, we send a `get` request to the\n",
    "# URL, along with our informational headers\n",
    "webpage = requests.get(target_url, headers=headers)"
   ]
  },
  {
   "cell_type": "code",
   "execution_count": null,
   "metadata": {},
   "outputs": [],
   "source": [
    "# opening up a local file to save the contents of the web page to\n",
    "output_file = open(output_filename,\"w\")\n",
    "\n",
    "# the web page's code is in the `text` property of the website's response\n",
    "# so write that to our file\n",
    "output_file.write(webpage.text)\n",
    "\n",
    "# close our output file!\n",
    "output_file.close()"
   ]
  },
  {
   "cell_type": "code",
   "execution_count": null,
   "metadata": {},
   "outputs": [],
   "source": [
    "# # UNCOMMENT BELOW TO USE WITH GOOGLE COLAB\n",
    "# from google.colab import files\n",
    "# files.download(output_filename)"
   ]
  }
 ],
 "metadata": {
  "kernelspec": {
   "display_name": "Python 3 (ipykernel)",
   "language": "python",
   "name": "python3"
  },
  "language_info": {
   "codemirror_mode": {
    "name": "ipython",
    "version": 3
   },
   "file_extension": ".py",
   "mimetype": "text/x-python",
   "name": "python",
   "nbconvert_exporter": "python",
   "pygments_lexer": "ipython3",
   "version": "3.9.5"
  }
 },
 "nbformat": 4,
 "nbformat_minor": 4
}

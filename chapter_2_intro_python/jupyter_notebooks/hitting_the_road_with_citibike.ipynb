{
 "cells": [
  {
   "cell_type": "code",
   "execution_count": null,
   "metadata": {},
   "outputs": [],
   "source": [
    "# Question: How many Citi Bike rides each day are taken by\n",
    "# \"subscribers\" versus \"customers\"?\n",
    "\n",
    "# Answer: Choose a single day of rides to examine.\n",
    "\n",
    "# The dataset used for this exercise was generated from the original\n",
    "# Citi Bike system data found here: https://s3.amazonaws.com/tripdata/index.html\n",
    "# Filename: 202009-citibike-tripdata.csv.zip\n",
    "# Program Outline:\n",
    "# 1. Read in the data file: 202009CtibikeTripdataExample.csv\n",
    "# 2. Create variables to count: subscribers, customers, and other\n",
    "# 3. For each row in the file:\n",
    "# a. If the \"User Type\" is \"Subscriber,\" add 1 to \"subscriber_count\"\n",
    "# b. If the \"User Type\" is \"Customer,\" add 1 to \"customer_count\"\n",
    "# c. Otherwise, add 1 to the \"other\" variable\n",
    "# 4. Print out my results"
   ]
  },
  {
   "cell_type": "code",
   "execution_count": null,
   "metadata": {},
   "outputs": [],
   "source": [
    "# import the `csv` library\n",
    "import csv\n",
    "\n",
    "# open the `202009CitibikeTripdataExample.csv` file in read (\"r\") mode\n",
    "# this file should be in the same folder as our Python script or notebook\n",
    "source_file = open(\"202009CitibikeTripdataExample.csv\",\"r\")\n",
    "\n",
    "# pass our `source_file` as an ingredient to the the `csv` library's\n",
    "# DictReader \"recipe\".\n",
    "# Store the result in a variable called `citibike_reader`\n",
    "citibike_reader = csv.DictReader(source_file)\n",
    "\n",
    "# the DictReader method has added some useful information to our data,\n",
    "# like a `fieldnames` property that lets us access all the values\n",
    "# in the first or \"header\" row\n",
    "print(citibike_reader.fieldnames)"
   ]
  },
  {
   "cell_type": "code",
   "execution_count": null,
   "metadata": {},
   "outputs": [],
   "source": [
    "# create a variable to hold the count of each type of Citi Bike user\n",
    "# assign or \"initialize\" each with a value of zero (0)\n",
    "subscriber_count = 0\n",
    "customer_count = 0\n",
    "other_user_count = 0"
   ]
  },
  {
   "cell_type": "code",
   "execution_count": null,
   "metadata": {},
   "outputs": [],
   "source": [
    "# Step 3: Loop through every row of our data\n",
    "for a_row in citibike_reader:\n",
    "\n",
    "    # Step 3a: if the value in the `usertype` column\n",
    "    # of the current row is \"Subscriber\"\n",
    "    if a_row[\"usertype\"] == \"Subscriber\":\n",
    "\n",
    "        # add 1 to `subscriber_count`\n",
    "        subscriber_count = subscriber_count +1\n",
    "\n",
    "    # Step 3b: otherwise (else), if the value in the `usertype` column\n",
    "    # of the current row is \"Customer\"\n",
    "    elif a_row[\"usertype\"] == \"Customer\":\n",
    "\n",
    "        # add 1 to `subscriber_count`\n",
    "        customer_count = customer_count + 1\n",
    "\n",
    "    # Step 3c: the `usertype` value is _neither_\"Subscriber\" nor \"Customer\",\n",
    "    # so we'll add 1 to our catch-all `other_user_count` variable\n",
    "    else:\n",
    "        other_user_count = other_user_count + 1"
   ]
  },
  {
   "cell_type": "code",
   "execution_count": null,
   "metadata": {},
   "outputs": [],
   "source": [
    "# Step 4: Print out our results, being sure to include \"labels\" in the process:\n",
    "print(\"Number of subscribers:\")\n",
    "print(subscriber_count)\n",
    "print(\"Number of customers:\")\n",
    "print(customer_count)\n",
    "print(\"Number of 'other' users:\")\n",
    "print(other_user_count)"
   ]
  }
 ],
 "metadata": {
  "colab": {
   "name": "hitting_the_road_with_citibike.ipynb",
   "provenance": []
  },
  "kernelspec": {
   "display_name": "Python 3 (ipykernel)",
   "language": "python",
   "name": "python3"
  },
  "language_info": {
   "codemirror_mode": {
    "name": "ipython",
    "version": 3
   },
   "file_extension": ".py",
   "mimetype": "text/x-python",
   "name": "python",
   "nbconvert_exporter": "python",
   "pygments_lexer": "ipython3",
   "version": "3.9.5"
  }
 },
 "nbformat": 4,
 "nbformat_minor": 1
}

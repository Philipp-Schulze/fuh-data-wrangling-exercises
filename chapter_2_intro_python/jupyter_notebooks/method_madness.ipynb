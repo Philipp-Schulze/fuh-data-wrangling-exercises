{
 "cells": [
  {
   "cell_type": "code",
   "execution_count": null,
   "id": "a21dc1b6",
   "metadata": {},
   "outputs": [],
   "source": [
    "# splitting a string \"literal\" and then printing the result\n",
    "split_world = \"Hello World!\".split()\n",
    "print(split_world)"
   ]
  },
  {
   "cell_type": "code",
   "execution_count": null,
   "id": "f0ba92b0",
   "metadata": {},
   "outputs": [],
   "source": [
    "# assigning a string to a variable\n",
    "# then printing the result of calling the `split()` method on it\n",
    "world_msg = \"Hello World!\"\n",
    "print(world_msg.split())"
   ]
  },
  {
   "cell_type": "code",
   "execution_count": null,
   "id": "f75166e6",
   "metadata": {},
   "outputs": [],
   "source": [
    "# the following will produce an error because\n",
    "# the `split()` method must be called on a string in order to work!\n",
    "split(\"Hello World!\")"
   ]
  },
  {
   "cell_type": "code",
   "execution_count": null,
   "id": "6273c7bc",
   "metadata": {},
   "outputs": [],
   "source": [
    "# the following will produce an error because\n",
    "# there is no `split()` method for numbers!\n",
    "print(5.split())"
   ]
  },
  {
   "cell_type": "code",
   "execution_count": null,
   "id": "bdf09244",
   "metadata": {},
   "outputs": [],
   "source": []
  }
 ],
 "metadata": {
  "kernelspec": {
   "display_name": "Python 3 (ipykernel)",
   "language": "python",
   "name": "python3"
  },
  "language_info": {
   "codemirror_mode": {
    "name": "ipython",
    "version": 3
   },
   "file_extension": ".py",
   "mimetype": "text/x-python",
   "name": "python",
   "nbconvert_exporter": "python",
   "pygments_lexer": "ipython3",
   "version": "3.9.5"
  }
 },
 "nbformat": 4,
 "nbformat_minor": 5
}

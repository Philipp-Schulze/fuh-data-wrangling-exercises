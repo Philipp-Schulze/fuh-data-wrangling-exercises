{
 "cells": [
  {
   "cell_type": "code",
   "execution_count": null,
   "id": "852ff27e",
   "metadata": {},
   "outputs": [],
   "source": [
    "# create a function that prints out a greeting\n",
    "# to any name passed to the function\n",
    "def greet_me(a_name):\n",
    " print(\"Hello \"+a_name)"
   ]
  },
  {
   "cell_type": "code",
   "execution_count": null,
   "id": "c74beb6b",
   "metadata": {},
   "outputs": [],
   "source": [
    "# create a variable named author\n",
    "author = \"Susan E. McGregor\"\n",
    "\n",
    "# create another variable named editor\n",
    "editor = \"Jeff Bleiel\""
   ]
  },
  {
   "cell_type": "code",
   "execution_count": null,
   "id": "ee3022f1",
   "metadata": {},
   "outputs": [],
   "source": [
    "# use my custom function, `greet_me` to output \"Hello\" messages to each person\n",
    "greet_me(author)\n",
    "greet_me(editor)"
   ]
  }
 ],
 "metadata": {
  "kernelspec": {
   "display_name": "Python 3 (ipykernel)",
   "language": "python",
   "name": "python3"
  },
  "language_info": {
   "codemirror_mode": {
    "name": "ipython",
    "version": 3
   },
   "file_extension": ".py",
   "mimetype": "text/x-python",
   "name": "python",
   "nbconvert_exporter": "python",
   "pygments_lexer": "ipython3",
   "version": "3.9.5"
  }
 },
 "nbformat": 4,
 "nbformat_minor": 5
}

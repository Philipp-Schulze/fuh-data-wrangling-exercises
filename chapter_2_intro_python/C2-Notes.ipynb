{
 "cells": [
  {
   "cell_type": "markdown",
   "id": "5aee7bde-535d-44c7-a49f-12ce98a90083",
   "metadata": {
    "jp-MarkdownHeadingCollapsed": true
   },
   "source": [
    "# Vars"
   ]
  },
  {
   "cell_type": "raw",
   "id": "035e7e3d-af9b-4809-9b68-c1fecd78c3b8",
   "metadata": {},
   "source": [
    "Notes: \n",
    "- dont begin with digit, underscores, no key words\n",
    "- descriptive, unique, readable\n",
    "- camel case"
   ]
  },
  {
   "cell_type": "code",
   "execution_count": 9,
   "id": "ea5915d7-24f6-4cbd-95bb-bde7a561c06e",
   "metadata": {},
   "outputs": [
    {
     "name": "stdout",
     "output_type": "stream",
     "text": [
      "Susan\n"
     ]
    }
   ],
   "source": [
    "#number \n",
    "25\n",
    "#str\n",
    "\"hello world\"\n",
    "#list\n",
    "[\"this\", \"is\", \"a\", \"list\"]\n",
    "#dict\n",
    "{\"title\":\"python\", \"format\":\"book\", \"author\":\"susan\"}\n",
    "#bool\n",
    "True\n",
    "\n",
    "#printing\n",
    "author =\"Susan\"\n",
    "print(author)\n"
   ]
  },
  {
   "cell_type": "markdown",
   "id": "d70727d5-3a5b-42c5-a435-c5dd7a17dc19",
   "metadata": {
    "jp-MarkdownHeadingCollapsed": true
   },
   "source": [
    "# Functions"
   ]
  },
  {
   "cell_type": "raw",
   "id": "1eacc935-a912-4856-8caa-5d06dbceef99",
   "metadata": {},
   "source": [
    "Notes:\n",
    "- methods = can only be called on vars (objects) of a specific data type (class)\n",
    "- eg: u cant split a var of type int, only strings\n"
   ]
  },
  {
   "cell_type": "code",
   "execution_count": 10,
   "id": "ddd05476-0df4-4852-9e00-8f6d18466b0a",
   "metadata": {},
   "outputs": [
    {
     "name": "stdout",
     "output_type": "stream",
     "text": [
      "['hello', 'world']\n",
      "['hello', 'world']\n"
     ]
    }
   ],
   "source": [
    "# split string\n",
    "split_world = \"hello world\".split()\n",
    "print(split_world)\n",
    "\n",
    "# other order\n",
    "msg = \"hello world\"\n",
    "print(msg.split())\n",
    "\n",
    "# error\n",
    "# split(\"hello world\")"
   ]
  },
  {
   "cell_type": "code",
   "execution_count": 11,
   "id": "a7d28c51-4e0d-40c6-8710-d989a1546abb",
   "metadata": {},
   "outputs": [
    {
     "name": "stdout",
     "output_type": "stream",
     "text": [
      "hello susan\n",
      "hello jeff\n",
      "hello susan\n",
      "hello jeff\n",
      "hello test\n"
     ]
    }
   ],
   "source": [
    "auth = \"susan\"\n",
    "edit = \"jeff\"\n",
    "\n",
    "# basic\n",
    "print(\"hello \"+ auth)\n",
    "print(\"hello \"+ edit)\n",
    "\n",
    "# better Custom Function\n",
    "def greet_me(name):\n",
    "    print(\"hello \"+ name)\n",
    "\n",
    "# use it\n",
    "greet_me(auth)\n",
    "greet_me(edit)\n",
    "greet_me(\"test\")"
   ]
  },
  {
   "cell_type": "markdown",
   "id": "fe517110-4df9-4173-a492-63525eabf416",
   "metadata": {
    "jp-MarkdownHeadingCollapsed": true
   },
   "source": [
    "# Loops FOR"
   ]
  },
  {
   "cell_type": "raw",
   "id": "3a4d0baa-f204-4133-831b-59677ee49047",
   "metadata": {},
   "source": [
    "Notes:\n",
    "- for loop -> range of items in eg list\n",
    "- while loop -> wenn zustand noch zutriff"
   ]
  },
  {
   "cell_type": "code",
   "execution_count": 12,
   "id": "3715fcc0-9c61-4aaf-8b69-b723dbe2a262",
   "metadata": {},
   "outputs": [
    {
     "name": "stdout",
     "output_type": "stream",
     "text": [
      "30\n"
     ]
    }
   ],
   "source": [
    "# for loop\n",
    "page_counts = [10, 10, 10]\n",
    "tot = 0\n",
    "\n",
    "for i in page_counts:\n",
    "    tot = tot + i\n",
    "\n",
    "print(tot)"
   ]
  },
  {
   "cell_type": "code",
   "execution_count": 13,
   "id": "773a692e-596c-4369-886a-fc507bc868cf",
   "metadata": {},
   "outputs": [
    {
     "name": "stdout",
     "output_type": "stream",
     "text": [
      "30\n"
     ]
    }
   ],
   "source": [
    "# sum\n",
    "page_counts = [10, 10, 10]\n",
    "print(sum(page_counts))"
   ]
  },
  {
   "cell_type": "markdown",
   "id": "e2cfe239-3b4a-447e-ac54-ce2b10b112d2",
   "metadata": {
    "jp-MarkdownHeadingCollapsed": true
   },
   "source": [
    "# Conditional IF"
   ]
  },
  {
   "cell_type": "code",
   "execution_count": 14,
   "id": "b7f86ea2-da3b-4cf6-b6d7-1bb25a3ee074",
   "metadata": {},
   "outputs": [
    {
     "name": "stdout",
     "output_type": "stream",
     "text": [
      "291\n",
      "4\n",
      "5\n"
     ]
    }
   ],
   "source": [
    "# if function\n",
    "page_counts = [28, 32, 44, 23, 56, 32, 12, 34, 30]\n",
    "\n",
    "tot = 0\n",
    "u30 = 0\n",
    "o30 = 0\n",
    "\n",
    "for i in page_counts:\n",
    "\n",
    "    tot = tot + i\n",
    "\n",
    "    if i > 30:\n",
    "        o30 += 1\n",
    "    else:\n",
    "        u30 -= 1\n",
    "\n",
    "print(tot)\n",
    "print(abs(u30))\n",
    "print(o30)"
   ]
  },
  {
   "cell_type": "code",
   "execution_count": 15,
   "id": "0490135f-bc12-41f3-9821-6fcb6c823621",
   "metadata": {},
   "outputs": [
    {
     "name": "stdout",
     "output_type": "stream",
     "text": [
      "291\n",
      "4\n",
      "5\n",
      "Success!\n"
     ]
    }
   ],
   "source": [
    "# custom function\n",
    "page_list = [28, 32, 44, 23, 56, 32, 12, 34, 30]\n",
    "\n",
    "# cf\n",
    "def page_count(list):\n",
    "\n",
    "    tot = 0\n",
    "    u30 = 0\n",
    "    o30 = 0\n",
    "\n",
    "    for i in page_counts:\n",
    "\n",
    "        tot = tot + i\n",
    "\n",
    "        if i > 30:\n",
    "            o30 += 1\n",
    "        else:\n",
    "            u30 -= 1\n",
    "\n",
    "    print(tot)\n",
    "    print(abs(u30))\n",
    "    print(o30)        \n",
    "    print(\"Success!\")\n",
    "\n",
    "# fc call\n",
    "page_count(page_list)\n",
    "    \n"
   ]
  },
  {
   "cell_type": "markdown",
   "id": "b7fb2b54-21c7-43a9-8728-8642dcabefd7",
   "metadata": {
    "jp-MarkdownHeadingCollapsed": true
   },
   "source": [
    "# Understanding Errors"
   ]
  },
  {
   "cell_type": "raw",
   "id": "e42a0b2f-4f40-4a24-9c6b-7d99dbf40b75",
   "metadata": {},
   "source": [
    "Notes:\n",
    "- main types: syntax, runtime, logic\n",
    "- last few lines of error msg help\n",
    "- use execptions\n",
    "\n",
    "Syntax:\n",
    "- missing commas, quotes, idents\n",
    "- just correct them lol\n",
    "\n",
    "runtime:\n",
    "- often typos in var names\n",
    "- search code with STRG F\n",
    "- correct it.\n",
    "\n",
    "Logic:\n",
    "- app runs, but now how want\n",
    "- correct it."
   ]
  },
  {
   "cell_type": "markdown",
   "id": "13155562",
   "metadata": {},
   "source": [
    "# Example Citi Bike\n",
    "\n"
   ]
  },
  {
   "cell_type": "markdown",
   "id": "206a33db",
   "metadata": {},
   "source": [
    "Outline: \n",
    "question: How many Citi Bike rides each day are taken by \n",
    "\"subscribers\" versus \"customers\"? \n",
    "\n",
    "answer: Choose a single day of rides to examine. \n",
    "the dataset used for this exercise was generated from the original \n",
    "Citi Bike system data found here: https://s3.amazonaws.com/tripdata/index.html \n",
    "filename: 202009-citibike-tripdata.csv.zip # program Outline: \n",
    "\n",
    "1 read in the data file: 202009CitibikeTripdataExample.csv \n",
    "2 create variables to count: subscribers, customers, and other \n",
    "3 for each row in the file: \n",
    "    a. If the \"User Type\" is \"Subscriber,\" add 1 to \"subscriber_count\" \n",
    "    b. If the \"User Type\" is \"Customer,\" add 1 to \"customer_count\" \n",
    "    c. Otherwise, add 1 to the \"other\" variable \n",
    "4 print out my results\n"
   ]
  },
  {
   "cell_type": "code",
   "execution_count": 16,
   "id": "77729cfa",
   "metadata": {},
   "outputs": [
    {
     "name": "stdout",
     "output_type": "stream",
     "text": [
      "['tripduration', 'starttime', 'stoptime', 'start station id', 'start station name', 'start station latitude', 'start station longitude', 'end station id', 'end station name', 'end station latitude', 'end station longitude', 'bikeid', 'usertype', 'birth year', 'gender']\n",
      "Subscriber count: 1817674\n",
      "Customer count: 670551\n",
      "Other user count: 0\n"
     ]
    }
   ],
   "source": [
    "# 1. read in the data file: 202009CitibikeTripdataExample.csv \n",
    "\n",
    "import csv\n",
    "\n",
    "#open in read-only mode\n",
    "source_file = open(\"./datasets/202009-citibike-tripdata.csv\", \"r\")\n",
    "\n",
    "#create DictReader object\n",
    "citibike_reader = csv.DictReader(source_file)\n",
    "\n",
    "print(citibike_reader.fieldnames)\n",
    "\n",
    "# 2. create variables to count: subscribers, customers, and other\n",
    "\n",
    "# initialize variables\n",
    "subscriber_count =  0\n",
    "customer_count =  0\n",
    "other_user_count =  0\n",
    "\n",
    "# 3. for each row in the file: \n",
    "# a. If the \"User Type\" is \"Subscriber,\" add 1 to \"subscriber_count\" \n",
    "# b. If the \"User Type\" is \"Customer,\" add 1 to \"customer_count\" \n",
    "# c. Otherwise, add 1 to the \"other\" variable \n",
    "# 4. print out my results\n",
    "\n",
    "for i in citibike_reader:\n",
    "    if i[\"usertype\"] == \"Subscriber\":\n",
    "        subscriber_count += 1\n",
    "    elif i[\"usertype\"] == \"Customer\":\n",
    "        customer_count += 1\n",
    "    else:\n",
    "        other_user_count += 1\n",
    "\n",
    "# 4. print out my results\n",
    "\n",
    "print(\"Subscriber count:\", subscriber_count)\n",
    "print(\"Customer count:\", customer_count)\n",
    "print(\"Other user count:\", other_user_count)"
   ]
  },
  {
   "cell_type": "markdown",
   "id": "ff67d1c4",
   "metadata": {},
   "source": [
    "Coding takes longer than Excel, but better scaling:\n",
    "- handles larger datasers still efficiently\n",
    "- loading different data sets is easier"
   ]
  }
 ],
 "metadata": {
  "kernelspec": {
   "display_name": "Python 3",
   "language": "python",
   "name": "python3"
  },
  "language_info": {
   "codemirror_mode": {
    "name": "ipython",
    "version": 3
   },
   "file_extension": ".py",
   "mimetype": "text/x-python",
   "name": "python",
   "nbconvert_exporter": "python",
   "pygments_lexer": "ipython3",
   "version": "3.11.9"
  }
 },
 "nbformat": 4,
 "nbformat_minor": 5
}

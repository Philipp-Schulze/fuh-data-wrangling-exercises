{
 "cells": [
  {
   "cell_type": "markdown",
   "metadata": {},
   "source": [
    "# DATA WRANGLING STEPS\n",
    "\n",
    "## 1. Locating Data\n",
    "\n",
    "Sources:\n",
    "\n",
    "* databases (sql, nosql)\n",
    "* csv, excel files\n",
    "* APIs\n",
    "* web scraping\n",
    "* public data repos\n",
    "\n",
    "## 2. Reviewing Data\n",
    "\n",
    "getting first information about the data:\n",
    "\n",
    "* overview: info(), head(), shape()\n",
    "* numbers: mean, median, variance, NaN\n",
    "* nominal values: spelling, capitalization\n",
    "\n",
    "## 3. Work with Data\n",
    "\n",
    "adressing quality issues:\n",
    "\n",
    "* handling NaN values\n",
    "* remove duplicates\n",
    "* correct inconsistencies (dates, units, strings)\n",
    "* normalization (0..1, z score)\n",
    "* encoding (categorical to numerical values)\n",
    "* augmenting (extract single infos, combining columns -> new infos)\n",
    "\n",
    "## 4. Analyzing Data\n",
    "\n",
    "get insights, patterns, relationships:\n",
    "\n",
    "* EDA: trends, correlations, groupings, aggregations\n",
    "* machine learning: regression, classification, clustering\n",
    "\n",
    "## 5. Visualizing Data\n",
    "\n",
    "present the data insights in clear and meaningful visual aids:\n",
    "\n",
    "* distributions: histo, box, density plot\n",
    "* relationship: scatter, line, heatmap\n",
    "* aggregations: bar, pie plot\n",
    "\n",
    "tasks:\n",
    "* choose right form\n",
    "* use color, layout and design"
   ]
  },
  {
   "cell_type": "markdown",
   "metadata": {},
   "source": [
    "\n"
   ]
  }
 ],
 "metadata": {
  "language_info": {
   "name": "python"
  }
 },
 "nbformat": 4,
 "nbformat_minor": 2
}

{
 "cells": [
  {
   "cell_type": "code",
   "execution_count": null,
   "metadata": {},
   "outputs": [],
   "source": [
    "import matplotlib.pyplot as plt"
   ]
  },
  {
   "cell_type": "code",
   "execution_count": null,
   "metadata": {},
   "outputs": [],
   "source": [
    "# matplotlib works counterclockwise, so we need to essentially reverse\n",
    "# the order of our pie-value \"slices\"\n",
    "candidate_names = ['Adams', 'Wiley', 'Garcia', 'Yang', 'Others']\n",
    "\n",
    "candidate_names.reverse()\n",
    "\n",
    "vote_pct = [30.8, 21.3, 19.6, 12.2, 16.1]\n",
    "\n",
    "vote_pct.reverse()\n",
    "\n",
    "colors = ['#006d2c','#006d2c', '#006d2c', '#31a354','#74c476']\n",
    "\n",
    "colors.reverse()\n",
    "\n",
    "fig1, ax1 = plt.subplots()\n",
    "\n",
    "# by default, the starting axis is the x-axis; making this value 90 ensures\n",
    "# that it is a vertical line instead\n",
    "ax1.pie(vote_pct, labels=candidate_names, autopct='%.1f%%', startangle=90,\n",
    " colors=colors)\n",
    "\n",
    "ax1.axis('equal') # Equal aspect ratio ensures that pie is drawn as a circle.\n",
    "\n",
    "# show the plot!\n",
    "plt.show()"
   ]
  }
 ],
 "metadata": {
  "kernelspec": {
   "display_name": "Python 3 (ipykernel)",
   "language": "python",
   "name": "python3"
  },
  "language_info": {
   "codemirror_mode": {
    "name": "ipython",
    "version": 3
   },
   "file_extension": ".py",
   "mimetype": "text/x-python",
   "name": "python",
   "nbconvert_exporter": "python",
   "pygments_lexer": "ipython3",
   "version": "3.9.5"
  }
 },
 "nbformat": 4,
 "nbformat_minor": 4
}

{
 "cells": [
  {
   "cell_type": "markdown",
   "metadata": {},
   "source": [
    "# APIs\n",
    "\n",
    "* risk: privacy\n",
    "* therefore: registering, authentication\n",
    "* why: free advertising, market trends visible, transparency\n",
    "\n",
    "## Intro\n",
    "\n",
    "search engines\n",
    "* are only special apis\n",
    "* interface to work with big data base\n",
    "* queries on db\n",
    "\n",
    "## structure basic query string\n",
    "\n",
    "https://www.google.com/search?q=weather+schweinfurt\n",
    "\n",
    "\n",
    "* endpoint: https://www.google.com/search?\n",
    "* query string: q=weather+schweinfurt\n",
    "* append key value pairs with & operator (ampersands)\n",
    "* order of pairs doesnt matter\n",
    "\n",
    "\n",
    "\n",
    "\n",
    "\n",
    "\n"
   ]
  },
  {
   "cell_type": "markdown",
   "metadata": {},
   "source": [
    "# \n",
    "\n"
   ]
  }
 ],
 "metadata": {
  "kernelspec": {
   "display_name": "Python 3",
   "language": "python",
   "name": "python3"
  },
  "language_info": {
   "codemirror_mode": {
    "name": "ipython",
    "version": 3
   },
   "file_extension": ".py",
   "mimetype": "text/x-python",
   "name": "python",
   "nbconvert_exporter": "python",
   "pygments_lexer": "ipython3",
   "version": "3.11.9"
  }
 },
 "nbformat": 4,
 "nbformat_minor": 2
}

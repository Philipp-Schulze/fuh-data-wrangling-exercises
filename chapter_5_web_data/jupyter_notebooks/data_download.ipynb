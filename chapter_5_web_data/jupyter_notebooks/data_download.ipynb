{
 "cells": [
  {
   "cell_type": "code",
   "execution_count": null,
   "metadata": {},
   "outputs": [],
   "source": [
    "# A basic example of downloading data from the web with Python,\n",
    "# using the requests library\n",
    "#\n",
    "# The source data we are downloading will come from the following URLs:\n",
    "# http://feeds.bbci.co.uk/news/science_and_environment/rss.xml\n",
    "# https://gbfs.citibikenyc.com/gbfs/en/station_status.json\n",
    "\n",
    "# the `requests` library lets us write Python code that acts like\n",
    "# a web browser\n",
    "import requests"
   ]
  },
  {
   "cell_type": "code",
   "execution_count": null,
   "metadata": {},
   "outputs": [],
   "source": [
    "# # UNCOMMENT BELOW TO USE WITH GOOGLE COLAB\n",
    "# from google.colab import files"
   ]
  },
  {
   "cell_type": "code",
   "execution_count": null,
   "metadata": {},
   "outputs": [],
   "source": [
    "# our chosen XML filename\n",
    "XMLfilename = \"BBC_RSS.xml\"\n",
    "\n",
    "# open a new, writable file for our XML output\n",
    "xml_output_file = open(XMLfilename,\"w\")\n",
    "\n",
    "# use the requests library's \"get\" recipe to access the contents of our\n",
    "# target URL and store it in our `xml_data` variable\n",
    "xml_data = requests.get('http://feeds.bbci.co.uk/news/science_and_environment/rss.xml')\n",
    "\n",
    "# the requests library's `get()` function puts contents of the web page\n",
    "# in a property `text`\n",
    "# we'll `write` that directly to our `xml_output_file`\n",
    "xml_output_file.write(xml_data.text)\n",
    "\n",
    "# close our xml_output_file\n",
    "xml_output_file.close()"
   ]
  },
  {
   "cell_type": "code",
   "execution_count": null,
   "metadata": {},
   "outputs": [],
   "source": [
    "# # UNCOMMENT BELOW TO USE WITH GOOGLE COLAB\n",
    "# files.download(XMLfilename)"
   ]
  },
  {
   "cell_type": "code",
   "execution_count": null,
   "metadata": {},
   "outputs": [],
   "source": [
    "# our chosen JSON filename\n",
    "JSONfilename = \"citibikenyc_station_status.json\"\n",
    "\n",
    "# open a new, writable file for our JSON output\n",
    "json_output_file = open(JSONfilename,\"w\")\n",
    "\n",
    "# use the `requests` library's `get()` recipe to access the contents of our\n",
    "# target URL and store it in our `json_data` variable\n",
    "json_data = requests.get('https://gbfs.citibikenyc.com/gbfs/en/station_status.json')\n",
    "\n",
    "# `get()` the contents of the web page and write its `text`\n",
    "# directly to `json_output_file`\n",
    "json_output_file.write(json_data.text)\n",
    "\n",
    "# close our json_output_file\n",
    "json_output_file.close()"
   ]
  },
  {
   "cell_type": "code",
   "execution_count": null,
   "metadata": {},
   "outputs": [],
   "source": [
    "# # UNCOMMENT BELOW TO USE WITH GOOGLE COLAB\n",
    "# files.download(JSONfilename)"
   ]
  }
 ],
 "metadata": {
  "kernelspec": {
   "display_name": "Python 3 (ipykernel)",
   "language": "python",
   "name": "python3"
  },
  "language_info": {
   "codemirror_mode": {
    "name": "ipython",
    "version": 3
   },
   "file_extension": ".py",
   "mimetype": "text/x-python",
   "name": "python",
   "nbconvert_exporter": "python",
   "pygments_lexer": "ipython3",
   "version": "3.9.5"
  }
 },
 "nbformat": 4,
 "nbformat_minor": 4
}

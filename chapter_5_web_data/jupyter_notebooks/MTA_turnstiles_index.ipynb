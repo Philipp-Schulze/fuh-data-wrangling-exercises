{
 "cells": [
  {
   "cell_type": "code",
   "execution_count": null,
   "metadata": {},
   "outputs": [],
   "source": [
    "# include the requests library in order to get data from the web\n",
    "import requests"
   ]
  },
  {
   "cell_type": "code",
   "execution_count": null,
   "metadata": {},
   "outputs": [],
   "source": [
    "# specify the URL of the web page we're downloading\n",
    "# this one contains a linked list of all the NYC MTA turnstile data files\n",
    "# going back to 2010\n",
    "mta_turnstiles_index_url = \"http://web.mta.info/developers/turnstile.html\""
   ]
  },
  {
   "cell_type": "code",
   "execution_count": null,
   "metadata": {},
   "outputs": [],
   "source": [
    "# create some header information for our web page request\n",
    "headers = {\n",
    " 'User-Agent': 'Mozilla/5.0 (X11; CrOS x86_64 13597.66.0) ' + \\\n",
    " 'AppleWebKit/537.36 (KHTML, like Gecko) ' + \\\n",
    " 'Chrome/88.0.4324.109 Safari/537.36',\n",
    " 'From': 'YOUR NAME HERE - youremailaddress@emailprovider.som'\n",
    "}"
   ]
  },
  {
   "cell_type": "code",
   "execution_count": null,
   "metadata": {},
   "outputs": [],
   "source": [
    "# send a `get()` request for the URL, along with our informational headers\n",
    "mta_web_page = requests.get(mta_turnstiles_index_url, headers=headers)\n",
    "\n",
    "# open up a writable local file where we can save the contents of the web page\n",
    "mta_turnstiles_output_file = open(\"MTA_turnstiles_index.html\",\"w\")\n",
    "\n",
    "# write the `text` web page to our output file\n",
    "mta_turnstiles_output_file.write(mta_web_page.text)\n",
    "\n",
    "# close our output file!\n",
    "mta_turnstiles_output_file.close()"
   ]
  },
  {
   "cell_type": "code",
   "execution_count": null,
   "metadata": {},
   "outputs": [],
   "source": [
    "# # UNCOMMENT BELOW TO USE WITH GOOGLE COLAB\n",
    "# from google.colab import files\n",
    "\n",
    "# files.download(\"MTA_turnstiles_index.html\")"
   ]
  }
 ],
 "metadata": {
  "kernelspec": {
   "display_name": "Python 3 (ipykernel)",
   "language": "python",
   "name": "python3"
  },
  "language_info": {
   "codemirror_mode": {
    "name": "ipython",
    "version": 3
   },
   "file_extension": ".py",
   "mimetype": "text/x-python",
   "name": "python",
   "nbconvert_exporter": "python",
   "pygments_lexer": "ipython3",
   "version": "3.9.5"
  }
 },
 "nbformat": 4,
 "nbformat_minor": 4
}

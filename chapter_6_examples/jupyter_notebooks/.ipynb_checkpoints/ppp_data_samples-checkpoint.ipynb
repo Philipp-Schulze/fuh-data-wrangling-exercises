{
 "cells": [
  {
   "cell_type": "code",
   "execution_count": null,
   "metadata": {},
   "outputs": [],
   "source": [
    "# Quick script for creating new CSVs that each contain the first few rows of\n",
    "# our larger data files\n",
    "\n",
    "# importing the `pandas` library\n",
    "import pandas as pd"
   ]
  },
  {
   "cell_type": "code",
   "execution_count": null,
   "metadata": {},
   "outputs": [],
   "source": [
    "# # UNCOMMENT BELOW TO USE WITH GOOGLE COLAB\n",
    "# # Import PyDrive and associated libraries.\n",
    "# # This only needs to be done once per notebook.\n",
    "# # Documentation found here: https://colab.research.google.com/notebooks/io.ipynb#scrollTo=7taylj9wpsA2\n",
    "# from pydrive.auth import GoogleAuth\n",
    "# from pydrive.drive import GoogleDrive\n",
    "# from google.colab import auth\n",
    "# from oauth2client.client import GoogleCredentials\n",
    "\n",
    "# # Authenticate and create the PyDrive client.\n",
    "# # This only needs to be done once per notebook.\n",
    "# auth.authenticate_user()\n",
    "# gauth = GoogleAuth()\n",
    "# gauth.credentials = GoogleCredentials.get_application_default()\n",
    "# drive = GoogleDrive(gauth)"
   ]
  },
  {
   "cell_type": "code",
   "execution_count": null,
   "metadata": {},
   "outputs": [],
   "source": [
    "# # UNCOMMENT BELOW TO USE WITH GOOGLE COLAB\n",
    "# # This loads the August 2020 data\n",
    "# # Link to data file stored in Drive: https://drive.google.com/file/d/1cCgKmILP4RVFcnqdKWRM-qcUk4RljFms/view?usp=sharing\n",
    "# file_id = '1cCgKmILP4RVFcnqdKWRM-qcUk4RljFms' # notice where this string comes from in link above\n",
    "\n",
    "# imported_file = drive.CreateFile({'id': file_id}) # creating an accessible copy of the shared data file\n",
    "# print(imported_file['title'])  # it should print the title of desired file\n",
    "# imported_file.GetContentFile(imported_file['title']) # refer to it in this notebook by the same name as it has in Drive"
   ]
  },
  {
   "cell_type": "code",
   "execution_count": null,
   "metadata": {},
   "outputs": [],
   "source": [
    "# # UNCOMMENT BELOW TO USE WITH GOOGLE COLAB\n",
    "# # This loads the \"recent\" (February 2021) data\n",
    "# # Link to data file stored in Drive: https://drive.google.com/file/d/1M1AbFf8cUl0PwgKiXAbKBP3fPXIBKcMo/view?usp=sharing\n",
    "# file_id = '1M1AbFf8cUl0PwgKiXAbKBP3fPXIBKcMo' # notice where this string comes from in link above\n",
    "\n",
    "# imported_file = drive.CreateFile({'id': file_id}) # creating an accessible copy of the shared data file\n",
    "# print(imported_file['title'])  # it should print the title of desired file\n",
    "# imported_file.GetContentFile(imported_file['title']) # refer to it in this notebook by the same name as it has in Drive"
   ]
  },
  {
   "cell_type": "code",
   "execution_count": null,
   "metadata": {},
   "outputs": [],
   "source": [
    "# read the august data into a pandas DataFrame using its `read_csv()` method\n",
    "august_ppp_data = pd.read_csv('public_150k_plus_080820.csv')\n",
    "\n",
    "# the `head()` method returns the DataFrame's column headers\n",
    "# along with the first 5 rows of data\n",
    "august_sample = august_ppp_data.head()\n",
    "\n",
    "# write those first few rows to a CSV called `august_sample.csv`\n",
    "# using the pandas `to_csv()` method\n",
    "august_sample.to_csv('august_sample.csv', index=False)"
   ]
  },
  {
   "cell_type": "code",
   "execution_count": null,
   "metadata": {},
   "outputs": [],
   "source": [
    "# read the recent data into a pandas DataFrame using its `read_csv()` method\n",
    "recent_ppp_data = pd.read_csv('public_150k_plus_recent.csv')\n",
    "\n",
    "# the `head()` method returns the DataFrame's column headers\n",
    "# along with the first 5 rows of data\n",
    "recent_sample = recent_ppp_data.head()\n",
    "\n",
    "# write those first few rows to a CSV called `recent_sample.csv`\n",
    "recent_sample.to_csv('recent_sample.csv', index=False)"
   ]
  },
  {
   "cell_type": "code",
   "execution_count": null,
   "metadata": {},
   "outputs": [],
   "source": [
    "# # UNCOMMENT BELOW TO USE WITH GOOGLE COLAB\n",
    "# from google.colab import files\n",
    "\n",
    "# files.download('august_sample.csv')\n",
    "# files.download('recent_sample.csv')"
   ]
  }
 ],
 "metadata": {
  "kernelspec": {
   "display_name": "Python 3 (ipykernel)",
   "language": "python",
   "name": "python3"
  },
  "language_info": {
   "codemirror_mode": {
    "name": "ipython",
    "version": 3
   },
   "file_extension": ".py",
   "mimetype": "text/x-python",
   "name": "python",
   "nbconvert_exporter": "python",
   "pygments_lexer": "ipython3",
   "version": "3.9.5"
  }
 },
 "nbformat": 4,
 "nbformat_minor": 4
}

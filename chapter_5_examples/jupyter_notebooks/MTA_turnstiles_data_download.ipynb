{
 "cells": [
  {
   "cell_type": "code",
   "execution_count": null,
   "metadata": {},
   "outputs": [],
   "source": [
    "# include the requests library in order to get data from the web\n",
    "import requests\n",
    "\n",
    "# import the `os` Python library so we can create a new folder\n",
    "# in which to store our downloaded data files\n",
    "import os\n",
    "\n",
    "# import the `time` library\n",
    "import time"
   ]
  },
  {
   "cell_type": "code",
   "execution_count": null,
   "metadata": {},
   "outputs": [],
   "source": [
    "# # UNCOMMENT BELOW TO USE WITH GOOGLE COLAB\n",
    "# from google.colab import files"
   ]
  },
  {
   "cell_type": "code",
   "execution_count": null,
   "metadata": {},
   "outputs": [],
   "source": [
    "# # UNCOMMENT BELOW TO USE WITH GOOGLE COLAB\n",
    "# # Import PyDrive and associated libraries.\n",
    "# # This only needs to be done once per notebook.\n",
    "# # Documentation found here: https://colab.research.google.com/notebooks/io.ipynb#scrollTo=7taylj9wpsA2\n",
    "# from pydrive.auth import GoogleAuth\n",
    "# from pydrive.drive import GoogleDrive\n",
    "# from google.colab import auth\n",
    "# from oauth2client.client import GoogleCredentials\n",
    "\n",
    "# # Authenticate and create the PyDrive client.\n",
    "# # This only needs to be done once per notebook.\n",
    "# auth.authenticate_user()\n",
    "# gauth = GoogleAuth()\n",
    "# gauth.credentials = GoogleCredentials.get_application_default()\n",
    "# drive = GoogleDrive(gauth)"
   ]
  },
  {
   "cell_type": "code",
   "execution_count": null,
   "metadata": {},
   "outputs": [],
   "source": [
    "# # UNCOMMENT BELOW TO USE WITH GOOGLE COLAB\n",
    "# # Link to data file stored in Drive: https://drive.google.com/file/d/1JxeL68DwEEt-FTL86k_ZfPJjC2Nk-CTs/view?usp=sharing\n",
    "# file_id = '1JxeL68DwEEt-FTL86k_ZfPJjC2Nk-CTs' # notice where this string comes from in link above\n",
    "\n",
    "# imported_file = drive.CreateFile({'id': file_id}) # creating an accessible copy of the shared data file\n",
    "# print(imported_file['title'])  # it should print the title of desired file\n",
    "# imported_file.GetContentFile(imported_file['title']) # refer to it in this notebook by the same name as it has in Drive"
   ]
  },
  {
   "cell_type": "code",
   "execution_count": null,
   "metadata": {},
   "outputs": [],
   "source": [
    "# open the file where we stored our list of links\n",
    "mta_data_links = open(\"MTA_data_index.csv\",\"r\")\n",
    "\n",
    "# create a folder name so that we can keep the data organized\n",
    "folder_name = \"turnstile_data\"\n",
    "\n",
    "# add our header information\n",
    "headers = {\n",
    " 'User-Agent': 'Mozilla/5.0 (X11; CrOS x86_64 13597.66.0) ' + \\\n",
    " 'AppleWebKit/537.36 (KHTML, like Gecko) ' + \\\n",
    " 'Chrome/88.0.4324.109 Safari/537.36',\n",
    " 'From': 'YOUR NAME HERE - youremailaddress@emailprovider.som'\n",
    "}\n",
    "# the built-in `readlines()` function converts our data file to a\n",
    "# list, where each line is an item\n",
    "mta_links_list = mta_data_links.readlines()\n",
    "# confirm there isn't already a folder with our chosen name\n",
    "if os.path.isdir(folder_name) == False:\n",
    "    # create a new folder with that name\n",
    "    target_folder = os.mkdir(folder_name)\n",
    "\n",
    "# only download the precise number of files we need\n",
    "for i in range(0,4):\n",
    "\n",
    "    # use the built-in `strip()` method to remove the newline (`\\n`)\n",
    "    # character at the end of each row/link\n",
    "    data_url = (mta_links_list[i]).strip()\n",
    "\n",
    "    # create a unique output filename based on the url\n",
    "    data_filename = data_url.split(\"/\")[-1]\n",
    "\n",
    "    # make our request for the data\n",
    "    turnstile_data_file = requests.get(data_url, headers=headers)\n",
    "\n",
    "    # open a new, writable file inside our target folder\n",
    "    # using the appropriate filename\n",
    "    local_data_file = open(os.path.join(folder_name,data_filename), \"w\")\n",
    "\n",
    "    # save the contents of the downloaded file to that new file\n",
    "    local_data_file.write(turnstile_data_file.text)\n",
    "\n",
    "    # close the local file\n",
    "    local_data_file.close()\n",
    "\n",
    "    # `sleep()` for two seconds before moving on to the next item in the loop\n",
    "    time.sleep(2)\n",
    "\n",
    "    \n",
    "    # # UNCOMMENT BELOW TO USE WITH GOOGLE COLAB\n",
    "    # files.download(os.path.join(folder_name,data_filename))"
   ]
  }
 ],
 "metadata": {
  "kernelspec": {
   "display_name": "Python 3 (ipykernel)",
   "language": "python",
   "name": "python3"
  },
  "language_info": {
   "codemirror_mode": {
    "name": "ipython",
    "version": 3
   },
   "file_extension": ".py",
   "mimetype": "text/x-python",
   "name": "python",
   "nbconvert_exporter": "python",
   "pygments_lexer": "ipython3",
   "version": "3.9.5"
  }
 },
 "nbformat": 4,
 "nbformat_minor": 4
}

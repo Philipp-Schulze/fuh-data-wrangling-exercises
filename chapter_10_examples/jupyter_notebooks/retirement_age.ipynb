{
 "cells": [
  {
   "cell_type": "code",
   "execution_count": null,
   "metadata": {},
   "outputs": [],
   "source": [
    "import matplotlib.pyplot as plt\n",
    "import pandas as pd\n",
    "import seaborn as sns\n",
    "import numpy as np"
   ]
  },
  {
   "cell_type": "code",
   "execution_count": null,
   "metadata": {},
   "outputs": [],
   "source": [
    "# (abbreviated) list of countries\n",
    "countries = ['Japan', 'Iceland', 'Switzerland', 'France', 'Ireland', 'Germany',\n",
    " 'Italy', 'Belgium']\n",
    "\n",
    "# difference in years between official and actual retirement age\n",
    "retirement_gap = [9, 2, 2, -1, -2, -2, -7, -8]\n",
    "\n",
    "# zip the two lists together, and specify the column names as we make the DataFrame\n",
    "retirement_data = pd.DataFrame(list(zip(countries, retirement_gap)),\n",
    " columns =['country', 'retirement_gap'])"
   ]
  },
  {
   "cell_type": "code",
   "execution_count": null,
   "metadata": {},
   "outputs": [],
   "source": [
    "# in practice, we might prefer to write a function that generates this list,\n",
    "# based on our data values\n",
    "bar_colors = ['#d01c8b', '#d01c8b', '#d01c8b', '#4dac26','#4dac26','#4dac26',\n",
    " '#4dac26','#4dac26']\n",
    "\n",
    "# pass our data and palette to the `seaborn` `barplot()` function\n",
    "ax = sns.barplot(x=\"retirement_gap\", y=\"country\", data=retirement_data, palette=bar_colors)\n",
    "\n",
    "# show the plot!\n",
    "plt.show()"
   ]
  }
 ],
 "metadata": {
  "kernelspec": {
   "display_name": "Python 3 (ipykernel)",
   "language": "python",
   "name": "python3"
  },
  "language_info": {
   "codemirror_mode": {
    "name": "ipython",
    "version": 3
   },
   "file_extension": ".py",
   "mimetype": "text/x-python",
   "name": "python",
   "nbconvert_exporter": "python",
   "pygments_lexer": "ipython3",
   "version": "3.9.5"
  }
 },
 "nbformat": 4,
 "nbformat_minor": 4
}

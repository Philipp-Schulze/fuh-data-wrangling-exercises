{
 "cells": [
  {
   "cell_type": "markdown",
   "metadata": {},
   "source": [
    "# context is important\n",
    "\n",
    "* eg buying apple for 50 vs 25 ct\n",
    "* difference mean and median\n",
    "** \n",
    "\n",
    "  "
   ]
  }
 ],
 "metadata": {
  "language_info": {
   "name": "python"
  }
 },
 "nbformat": 4,
 "nbformat_minor": 2
}

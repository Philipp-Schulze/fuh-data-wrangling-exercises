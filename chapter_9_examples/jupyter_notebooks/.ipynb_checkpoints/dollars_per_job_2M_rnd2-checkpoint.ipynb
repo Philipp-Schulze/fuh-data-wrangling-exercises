{
 "cells": [
  {
   "cell_type": "code",
   "execution_count": null,
   "metadata": {},
   "outputs": [],
   "source": [
    "# `pandas` for data loading/transformations\n",
    "import pandas as pd\n",
    "\n",
    "# `seaborn` for visualization\n",
    "import seaborn as sns\n",
    "\n",
    "# `matplotlib` for customizing visuals\n",
    "import matplotlib.pyplot as plt\n",
    "%matplotlib notebook\n",
    "\n",
    "# `numpy` for manipulating arrays/lists\n",
    "import numpy as np"
   ]
  },
  {
   "cell_type": "code",
   "execution_count": null,
   "metadata": {},
   "outputs": [],
   "source": [
    "# # UNCOMMENT BELOW TO USE WITH GOOGLE COLAB\n",
    "# # Import PyDrive and associated libraries.\n",
    "# # This only needs to be done once per notebook.\n",
    "# # Documentation found here: https://colab.research.google.com/notebooks/io.ipynb#scrollTo=7taylj9wpsA2\n",
    "# from pydrive.auth import GoogleAuth\n",
    "# from pydrive.drive import GoogleDrive\n",
    "# from google.colab import auth\n",
    "# from oauth2client.client import GoogleCredentials\n",
    "\n",
    "# # Authenticate and create the PyDrive client.\n",
    "# # This only needs to be done once per notebook.\n",
    "# auth.authenticate_user()\n",
    "# gauth = GoogleAuth()\n",
    "# gauth.credentials = GoogleCredentials.get_application_default()\n",
    "# drive = GoogleDrive(gauth)"
   ]
  },
  {
   "cell_type": "code",
   "execution_count": null,
   "metadata": {},
   "outputs": [],
   "source": [
    "# # UNCOMMENT BELOW TO USE WITH GOOGLE COLAB\n",
    "# # Link to data file stored in Drive: https://drive.google.com/file/d/18ut1gQQ65aoQeV0iUQlneNhecpGR51dz/view?usp=sharing\n",
    "# file_id = '18ut1gQQ65aoQeV0iUQlneNhecpGR51dz' # notice where this string comes from in link above\n",
    "\n",
    "# imported_file = drive.CreateFile({'id': file_id}) # creating an accessible copy of the shared data file\n",
    "# print(imported_file['title'])  # it should print the title of desired file\n",
    "# imported_file.GetContentFile(imported_file['title']) # refer to it in this notebook by the same name as it has in Drive"
   ]
  },
  {
   "cell_type": "code",
   "execution_count": null,
   "metadata": {},
   "outputs": [],
   "source": [
    "# load our data\n",
    "ppp_data = pd.read_csv('public_150k_plus_borrower_fingerprint_a.csv')"
   ]
  },
  {
   "cell_type": "code",
   "execution_count": null,
   "metadata": {},
   "outputs": [],
   "source": [
    "# first, sanity check our data\n",
    "print(ppp_data[ppp_data['JobsReported'] <= 0])\n",
    "\n",
    "# drop the records with no value in `JobsReported`\n",
    "ppp_data.drop(labels=[437083,765398], axis=0)"
   ]
  },
  {
   "cell_type": "code",
   "execution_count": null,
   "metadata": {},
   "outputs": [],
   "source": [
    "# calculate the dollars per job\n",
    "dollars_per_job = ppp_data['CurrentApprovalAmount']/ppp_data['JobsReported']\n",
    "\n",
    "# insert the new column into our original dataset\n",
    "ppp_data.insert(3, 'Dollars per Job', dollars_per_job)"
   ]
  },
  {
   "cell_type": "code",
   "execution_count": null,
   "metadata": {},
   "outputs": [],
   "source": [
    "# use `ProcessingMethod` value to identify second-round loans\n",
    "pps_loans = ppp_data[ppp_data['ProcessingMethod'] == 'PPS']\n",
    "\n",
    "# select all second-round loans that have a value of $2M\n",
    "pps_got_2M = pps_loans[pps_loans['CurrentApprovalAmount'] == 2000000.00]\n",
    "print(\"Actual $2M second-round loans:\")\n",
    "print(pps_got_2M.shape)"
   ]
  },
  {
   "cell_type": "code",
   "execution_count": null,
   "metadata": {},
   "outputs": [],
   "source": [
    "# pull fingerprints of businesses approved for $2M second-round loans\n",
    "biz_names = pd.unique(pps_got_2M['BorrowerNameFingerprint'])\n",
    "\n",
    "# convert that list to a DataFrame\n",
    "biz_names_df = pd.DataFrame(biz_names, columns=['BorrowerNameFingerprint'])\n",
    "\n",
    "# create an array of the same length as `biz_names_df`; fill with flag value\n",
    "fill_column = np.full((len(biz_names),1), '2Mil2ndRnd')\n",
    "biz_names_df['GotSecond'] = fill_column\n",
    "\n",
    "# now merge this new, two-column DataFrame back onto our full_data list\n",
    "second_round_max = pd.merge(ppp_data, biz_names_df, on='BorrowerNameFingerprint')"
   ]
  },
  {
   "cell_type": "code",
   "execution_count": null,
   "metadata": {},
   "outputs": [],
   "source": [
    "# all loans whose fingerprints match those of businesses that got $2M\n",
    "# in the second round should have `2Mil2ndRnd` in the `GotSecond` column\n",
    "second_max_all_loans = second_round_max[\n",
    " second_round_max['GotSecond'] == '2Mil2ndRnd']\n",
    "\n",
    "# sbould be 2x the number of businesses approved for $2M second-round\n",
    "print('Total # of loans approved for most orgs that got $2M for second round:')\n",
    "print(second_max_all_loans.shape)"
   ]
  },
  {
   "cell_type": "code",
   "execution_count": null,
   "metadata": {},
   "outputs": [],
   "source": [
    "# how much money were these businesses approved to get from the PPP, total?\n",
    "total_funds = second_max_all_loans['CurrentApprovalAmount'].sum()\n",
    "print(\"Total funds approved for identified orgs that could have \" + \\\n",
    " \"second-round max:\")\n",
    "print(total_funds)"
   ]
  },
  {
   "cell_type": "code",
   "execution_count": null,
   "metadata": {},
   "outputs": [],
   "source": [
    "# now, let's plot that new column on our selected dataset\n",
    "# set the seaborn theme\n",
    "sns.set_theme(style=\"whitegrid\")\n",
    "\n",
    "# the `matplotlib` `subplots()` to plot charts side by side\n",
    "fig, ((row1col1)) = plt.subplots(nrows=1, ncols=1)\n",
    "\n",
    "# plot the histogram of our date-based analysis\n",
    "date_based = sns.histplot(data=second_max_all_loans, x='Dollars per Job',\n",
    " hue='ProcessingMethod', ax=row1col1)\n",
    "\n",
    "# show the plots!\n",
    "plt.show()"
   ]
  }
 ],
 "metadata": {
  "kernelspec": {
   "display_name": "Python 3 (ipykernel)",
   "language": "python",
   "name": "python3"
  },
  "language_info": {
   "codemirror_mode": {
    "name": "ipython",
    "version": 3
   },
   "file_extension": ".py",
   "mimetype": "text/x-python",
   "name": "python",
   "nbconvert_exporter": "python",
   "pygments_lexer": "ipython3",
   "version": "3.9.5"
  }
 },
 "nbformat": 4,
 "nbformat_minor": 4
}

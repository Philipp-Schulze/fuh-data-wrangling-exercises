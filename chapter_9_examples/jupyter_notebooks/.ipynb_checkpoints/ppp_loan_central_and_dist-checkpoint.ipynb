{
 "cells": [
  {
   "cell_type": "code",
   "execution_count": null,
   "metadata": {},
   "outputs": [],
   "source": [
    "# `pandas` for reading and assessing our data\n",
    "import pandas as pd\n",
    "\n",
    "# `seaborn` for its built-in themes and chart types\n",
    "import seaborn as sns\n",
    "\n",
    "# `matplotlib` for customizing visual details\n",
    "import matplotlib.pyplot as plt\n",
    "%matplotlib notebook"
   ]
  },
  {
   "cell_type": "code",
   "execution_count": null,
   "metadata": {},
   "outputs": [],
   "source": [
    "# # UNCOMMENT BELOW TO USE WITH GOOGLE COLAB\n",
    "# # Import PyDrive and associated libraries.\n",
    "# # This only needs to be done once per notebook.\n",
    "# # Documentation found here: https://colab.research.google.com/notebooks/io.ipynb#scrollTo=7taylj9wpsA2\n",
    "# from pydrive.auth import GoogleAuth\n",
    "# from pydrive.drive import GoogleDrive\n",
    "# from google.colab import auth\n",
    "# from oauth2client.client import GoogleCredentials\n",
    "\n",
    "# # Authenticate and create the PyDrive client.\n",
    "# # This only needs to be done once per notebook.\n",
    "# auth.authenticate_user()\n",
    "# gauth = GoogleAuth()\n",
    "# gauth.credentials = GoogleCredentials.get_application_default()\n",
    "# drive = GoogleDrive(gauth)"
   ]
  },
  {
   "cell_type": "code",
   "execution_count": null,
   "metadata": {},
   "outputs": [],
   "source": [
    "# # UNCOMMENT BELOW TO USE WITH GOOGLE COLAB\n",
    "# # Link to data file stored in Drive: https://drive.google.com/file/d/1z6XEYE8Qg2gxkwotc1htbx2Maxuveg7-/view?usp=sharing\n",
    "# file_id = '1z6XEYE8Qg2gxkwotc1htbx2Maxuveg7-' # notice where this string comes from in link above\n",
    "\n",
    "# imported_file = drive.CreateFile({'id': file_id}) # creating an accessible copy of the shared data file\n",
    "# print(imported_file['title'])  # it should print the title of desired file\n",
    "# imported_file.GetContentFile(imported_file['title']) # refer to it in this notebook by the same name as it has in Drive"
   ]
  },
  {
   "cell_type": "code",
   "execution_count": null,
   "metadata": {},
   "outputs": [],
   "source": [
    "# read in our data\n",
    "ppp_data = pd.read_csv('public_150k_plus_221.csv')"
   ]
  },
  {
   "cell_type": "code",
   "execution_count": null,
   "metadata": {},
   "outputs": [],
   "source": [
    "# set a basic color theme for our visualization\n",
    "sns.set_theme(style=\"whitegrid\")"
   ]
  },
  {
   "cell_type": "code",
   "execution_count": null,
   "metadata": {},
   "outputs": [],
   "source": [
    "# use the built-in `mean()` and `median()` methods in `pandas\n",
    "mean = ppp_data['CurrentApprovalAmount'].mean()\n",
    "median = ppp_data['CurrentApprovalAmount'].median()"
   ]
  },
  {
   "cell_type": "code",
   "execution_count": null,
   "metadata": {},
   "outputs": [],
   "source": [
    "# Q1 is the value at the position in our dataset\n",
    "# that has 25% of data readings to its left\n",
    "Q1 = ppp_data['CurrentApprovalAmount'].quantile(0.25)\n",
    "\n",
    "# Q3 is the value at the position in our dataset\n",
    "# that has 75% of data readings to its left\n",
    "Q3 = ppp_data['CurrentApprovalAmount'].quantile(0.75)\n",
    "\n",
    "# IQR is the difference between the Q3 and Q1 values\n",
    "IQR = Q3-Q1\n",
    "\n",
    "# and now we calculate our lower and upper bounds\n",
    "lower_bound = Q1 - (1.5*IQR)\n",
    "upper_bound = Q3 + (1.5*IQR)"
   ]
  },
  {
   "cell_type": "code",
   "execution_count": null,
   "metadata": {
    "scrolled": true
   },
   "outputs": [],
   "source": [
    "# use `seaborn` to plot the histogram\n",
    "approved_loan_plot = sns.histplot(data=ppp_data, x=\"CurrentApprovalAmount\")\n",
    "\n",
    "# get the min and max y-values on our histogram\n",
    "y_axis_range = approved_loan_plot.get_ylim()\n",
    "\n",
    "# add mean line in gray\n",
    "approved_loan_plot.vlines(mean, 0, y_axis_range[1], color='gray', ls='-')\n",
    "\n",
    "# other lines in black (median solid, others dotted)\n",
    "approved_loan_plot.vlines(median, 0, y_axis_range[1], color='black', ls='-')\n",
    "approved_loan_plot.vlines(lower_bound, 0, y_axis_range[1], color='black', ls=':')\n",
    "approved_loan_plot.vlines(Q1, 0, y_axis_range[1], color='black', ls=':')\n",
    "approved_loan_plot.vlines(Q3, 0, y_axis_range[1], color='black', ls=':')\n",
    "approved_loan_plot.vlines(upper_bound, 0, y_axis_range[1], color='black', ls=':')\n",
    "\n",
    "# show the plot!\n",
    "plt.show()"
   ]
  }
 ],
 "metadata": {
  "kernelspec": {
   "display_name": "Python 3 (ipykernel)",
   "language": "python",
   "name": "python3"
  },
  "language_info": {
   "codemirror_mode": {
    "name": "ipython",
    "version": 3
   },
   "file_extension": ".py",
   "mimetype": "text/x-python",
   "name": "python",
   "nbconvert_exporter": "python",
   "pygments_lexer": "ipython3",
   "version": "3.9.5"
  }
 },
 "nbformat": 4,
 "nbformat_minor": 4
}

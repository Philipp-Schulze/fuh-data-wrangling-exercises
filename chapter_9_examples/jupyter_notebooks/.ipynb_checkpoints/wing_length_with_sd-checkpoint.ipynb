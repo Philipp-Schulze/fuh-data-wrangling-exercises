{
 "cells": [
  {
   "cell_type": "code",
   "execution_count": null,
   "metadata": {},
   "outputs": [],
   "source": [
    "# `pandas` to read in our data\n",
    "import pandas as pd\n",
    "\n",
    "# `seaborn` for built-in themes and chart types\n",
    "import seaborn as sns\n",
    "\n",
    "# `matplotlib` for customizing visual details\n",
    "import matplotlib.pyplot as plt\n",
    "%matplotlib notebook\n",
    "\n",
    "# `statistics` easily calculating statistical measures\n",
    "import statistics\n"
   ]
  },
  {
   "cell_type": "code",
   "execution_count": null,
   "metadata": {},
   "outputs": [],
   "source": [
    "# # UNCOMMENT BELOW TO USE WITH GOOGLE COLAB\n",
    "# # Import PyDrive and associated libraries.\n",
    "# # This only needs to be done once per notebook.\n",
    "# # Documentation found here: https://colab.research.google.com/notebooks/io.ipynb#scrollTo=7taylj9wpsA2\n",
    "# from pydrive.auth import GoogleAuth\n",
    "# from pydrive.drive import GoogleDrive\n",
    "# from google.colab import auth\n",
    "# from oauth2client.client import GoogleCredentials\n",
    "\n",
    "# # Authenticate and create the PyDrive client.\n",
    "# # This only needs to be done once per notebook.\n",
    "# auth.authenticate_user()\n",
    "# gauth = GoogleAuth()\n",
    "# gauth.credentials = GoogleCredentials.get_application_default()\n",
    "# drive = GoogleDrive(gauth)"
   ]
  },
  {
   "cell_type": "code",
   "execution_count": null,
   "metadata": {},
   "outputs": [],
   "source": [
    "# # UNCOMMENT BELOW TO USE WITH GOOGLE COLAB\n",
    "# # Link to data file stored in Drive: https://drive.google.com/file/d/1gyWJhIbMNnDlI1SCyLl_pZkxkIcdAhd4/view?usp=sharing\n",
    "# file_id = '1gyWJhIbMNnDlI1SCyLl_pZkxkIcdAhd4' # notice where this string comes from in link above\n",
    "\n",
    "# imported_file = drive.CreateFile({'id': file_id}) # creating an accessible copy of the shared data file\n",
    "# print(imported_file['title'])  # it should print the title of desired file\n",
    "# imported_file.GetContentFile(imported_file['title']) # refer to it in this notebook by the same name as it has in Drive"
   ]
  },
  {
   "cell_type": "code",
   "execution_count": null,
   "metadata": {},
   "outputs": [],
   "source": [
    "# read in our data\n",
    "wing_data = pd.read_csv('wing_length - s057.csv')\n",
    "\n",
    "# set a basic color theme for our visualization\n",
    "sns.set_theme(style=\"white\")"
   ]
  },
  {
   "cell_type": "code",
   "execution_count": null,
   "metadata": {},
   "outputs": [],
   "source": [
    "# create the histogram, allowing `seaborn` to choose default \"bin\" values\n",
    "wing_plot = sns.histplot(data=wing_data, x=\"wing_length (0.1mm)\", kde=\"True\")\n",
    "\n",
    "# calculate the standard deviation via the `statistics` `stdev()` method\n",
    "sd = statistics.stdev(wing_data['wing_length (0.1mm)'])\n",
    "\n",
    "# get the min and max y-values on our histogram\n",
    "y_axis_range = wing_plot.get_ylim()\n",
    "\n",
    "# plot the mean as a solid line\n",
    "mean = wing_data['wing_length (0.1mm)'].mean()\n",
    "wing_plot.vlines(mean, 0, y_axis_range[1], color='gray', ls='-')\n",
    "\n",
    "# plot the three standard deviation boundary lines on either side of the mean\n",
    "for i in range(-3,4):\n",
    "\n",
    "    # find the current boundary value\n",
    "    z_value = mean + (i*sd)\n",
    "\n",
    "    # don't draw a second line over the mean line\n",
    "    if z_value != mean:\n",
    "\n",
    "        # plot a dotted gray line at each boundary value\n",
    "        wing_plot.vlines(z_value, 0, y_axis_range[1], color='gray', ls=':')\n",
    "\n",
    "# show the plot!\n",
    "plt.show()"
   ]
  }
 ],
 "metadata": {
  "kernelspec": {
   "display_name": "Python 3 (ipykernel)",
   "language": "python",
   "name": "python3"
  },
  "language_info": {
   "codemirror_mode": {
    "name": "ipython",
    "version": 3
   },
   "file_extension": ".py",
   "mimetype": "text/x-python",
   "name": "python",
   "nbconvert_exporter": "python",
   "pygments_lexer": "ipython3",
   "version": "3.9.5"
  }
 },
 "nbformat": 4,
 "nbformat_minor": 4
}

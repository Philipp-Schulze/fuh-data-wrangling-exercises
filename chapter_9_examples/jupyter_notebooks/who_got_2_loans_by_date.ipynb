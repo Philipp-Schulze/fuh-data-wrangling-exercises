{
 "cells": [
  {
   "cell_type": "code",
   "execution_count": null,
   "metadata": {},
   "outputs": [],
   "source": [
    "# `pandas` for data loading/transformations\n",
    "import pandas as pd\n",
    "\n",
    "# `seaborn` for visualization\n",
    "import seaborn as sns\n",
    "\n",
    "# `matplotlib` for detailed visualization support\n",
    "import matplotlib.pyplot as plt\n",
    "%matplotlib notebook\n",
    "\n",
    "# `numpy` for manipulating arrays/lists\n",
    "import numpy as np"
   ]
  },
  {
   "cell_type": "code",
   "execution_count": null,
   "metadata": {},
   "outputs": [],
   "source": [
    "# # UNCOMMENT BELOW TO USE WITH GOOGLE COLAB\n",
    "# # Import PyDrive and associated libraries.\n",
    "# # This only needs to be done once per notebook.\n",
    "# # Documentation found here: https://colab.research.google.com/notebooks/io.ipynb#scrollTo=7taylj9wpsA2\n",
    "# from pydrive.auth import GoogleAuth\n",
    "# from pydrive.drive import GoogleDrive\n",
    "# from google.colab import auth\n",
    "# from oauth2client.client import GoogleCredentials\n",
    "\n",
    "# # Authenticate and create the PyDrive client.\n",
    "# # This only needs to be done once per notebook.\n",
    "# auth.authenticate_user()\n",
    "# gauth = GoogleAuth()\n",
    "# gauth.credentials = GoogleCredentials.get_application_default()\n",
    "# drive = GoogleDrive(gauth)"
   ]
  },
  {
   "cell_type": "code",
   "execution_count": null,
   "metadata": {},
   "outputs": [],
   "source": [
    "# # UNCOMMENT BELOW TO USE WITH GOOGLE COLAB\n",
    "# # Link to data file stored in Drive: https://drive.google.com/file/d/18ut1gQQ65aoQeV0iUQlneNhecpGR51dz/view?usp=sharing\n",
    "# file_id = '18ut1gQQ65aoQeV0iUQlneNhecpGR51dz' # notice where this string comes from in link above\n",
    "\n",
    "# imported_file = drive.CreateFile({'id': file_id}) # creating an accessible copy of the shared data file\n",
    "# print(imported_file['title'])  # it should print the title of desired file\n",
    "# imported_file.GetContentFile(imported_file['title']) # refer to it in this notebook by the same name as it has in Drive"
   ]
  },
  {
   "cell_type": "code",
   "execution_count": null,
   "metadata": {},
   "outputs": [],
   "source": [
    "# load our data\n",
    "ppp_data = pd.read_csv('public_150k_plus_borrower_fingerprint_a.csv')"
   ]
  },
  {
   "cell_type": "code",
   "execution_count": null,
   "metadata": {},
   "outputs": [],
   "source": [
    "# convert the `DateApproved` column to an actual datetime data type\n",
    "ppp_data['DateApproved'] = pd.to_datetime(ppp_data['DateApproved'])\n",
    "\n",
    "# create a variable to hold the second-round start date\n",
    "second_round_start = pd.to_datetime('2021-01-13')\n",
    "\n",
    "# treat today's date to use as the \"upper\" limit on possible second-round loans\n",
    "todays_date = pd.to_datetime('today')\n",
    "\n",
    "# use 1/1/2020 as a \"lower\" limit, since it's before the PPP launched\n",
    "program_start = pd.to_datetime('2020-01-01')"
   ]
  },
  {
   "cell_type": "code",
   "execution_count": null,
   "metadata": {},
   "outputs": [],
   "source": [
    "# pass our boundaries and category labels to the pandas `cut()` function\n",
    "loan_round = pd.cut(ppp_data.DateApproved,\n",
    " bins=[program_start,second_round_start, todays_date],\n",
    " labels=['first_round', 'maybe_second'])\n",
    "\n",
    "# insert the new column at the position we specify\n",
    "ppp_data.insert(2,'Loan Round',loan_round)"
   ]
  },
  {
   "cell_type": "code",
   "execution_count": null,
   "metadata": {},
   "outputs": [],
   "source": [
    "# this \"pivot table\" will return a Series showing the number\n",
    "# of times a particular 'BorrowerNameFingerprint' appears in the dataset\n",
    "loan_count = ppp_data.pivot_table(index=['BorrowerNameFingerprint'], aggfunc='size')\n",
    "\n",
    "# convert our Series to a DataFrame and give it a name\n",
    "loan_count_df = loan_count.to_frame('Loan Count')\n",
    "\n",
    "# use the `describe()` method to print out summary statistics\n",
    "print(\"Description of duplicate borrower table:\")\n",
    "print(loan_count_df.describe())"
   ]
  },
  {
   "cell_type": "code",
   "execution_count": null,
   "metadata": {},
   "outputs": [],
   "source": [
    "# start by sorting our DataFrame of loan counts from greatest to least\n",
    "sorted_loan_counts = loan_count_df.sort_values(by=['Loan Count'], ascending=False)\n",
    "\n",
    "# create a new DataFrame with *only* those that have more than two loans\n",
    "more_than_two = sorted_loan_counts[sorted_loan_counts['Loan Count'] > 2]\n",
    "\n",
    "# print one instance of each business name that appears in `more_than_two`\n",
    "print(\"Businesses that seem to have gotten more than 2 loans:\")\n",
    "print(more_than_two.shape)\n",
    "\n",
    "print(\"Number of businesses that appear to have gotten precisely 2 loans:\")\n",
    "\n",
    "precisely_two = sorted_loan_counts[sorted_loan_counts['Loan Count'] == 2]\n",
    "\n",
    "print(precisely_two.shape)"
   ]
  },
  {
   "cell_type": "code",
   "execution_count": null,
   "metadata": {},
   "outputs": [],
   "source": [
    "# use `ProcessingMethod` value to identify second-round loans\n",
    "pps_loans = ppp_data[ppp_data['ProcessingMethod'] == 'PPS']\n",
    "\n",
    "# print out the `shape` of this DataFrame to see how many businesses we have\n",
    "print(\"Number of loans labeled as second round:\")\n",
    "print(pps_loans.shape)"
   ]
  },
  {
   "cell_type": "code",
   "execution_count": null,
   "metadata": {},
   "outputs": [],
   "source": [
    "# how many loans in our derived data frame were approved for precisely $2M\n",
    "# during the (possibly) second-round timeframe?\n",
    "# merge our `loan_count_df` back to keep track of businesses\n",
    "# we labeled as having precisely two loans\n",
    "ppp_data_w_lc = pd.merge(ppp_data, loan_count_df,\n",
    " on=['BorrowerNameFingerprint'], how='left')\n",
    "\n",
    "# now get *all* the records of business names we associated with two loans\n",
    "matched_two_loans = ppp_data_w_lc[(ppp_data_w_lc['Loan Count'] == 2)]\n",
    "\n",
    "# select those loans our `maybe_second` loans that have a value of $2M\n",
    "maybe_round2_2M = matched_two_loans[(matched_two_loans[\n",
    " 'CurrentApprovalAmount'] == 2000000.00) &\n",
    " (matched_two_loans[\n",
    " 'Loan Round'] == 'maybe_second')]\n",
    "\n",
    "print(\"Derived $2M second-round loans:\")\n",
    "print(maybe_round2_2M.shape)\n",
    "\n",
    "# select those loans that we *know* are second round and have a value of $2M\n",
    "pps_got_2M = pps_loans[pps_loans['CurrentApprovalAmount'] == 2000000.00]\n",
    "print(\"Actual $2M second-round loans:\")\n",
    "print(pps_got_2M.shape)"
   ]
  }
 ],
 "metadata": {
  "kernelspec": {
   "display_name": "Python 3 (ipykernel)",
   "language": "python",
   "name": "python3"
  },
  "language_info": {
   "codemirror_mode": {
    "name": "ipython",
    "version": 3
   },
   "file_extension": ".py",
   "mimetype": "text/x-python",
   "name": "python",
   "nbconvert_exporter": "python",
   "pygments_lexer": "ipython3",
   "version": "3.9.5"
  }
 },
 "nbformat": 4,
 "nbformat_minor": 4
}

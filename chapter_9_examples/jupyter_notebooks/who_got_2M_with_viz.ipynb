{
 "cells": [
  {
   "cell_type": "code",
   "execution_count": null,
   "id": "9b5623fd",
   "metadata": {},
   "outputs": [],
   "source": [
    "# `pandas` for data loading/transformations\n",
    "import pandas as pd\n",
    "\n",
    "# `seaborn` for visualization\n",
    "import seaborn as sns\n",
    "\n",
    "# `matplotlib` for detailed visualization support\n",
    "import matplotlib.pyplot as plt\n",
    "%matplotlib notebook\n",
    "\n",
    "# `numpy` for manipulating arrays/lists\n",
    "import numpy as np"
   ]
  },
  {
   "cell_type": "code",
   "execution_count": null,
   "id": "c60061c1",
   "metadata": {},
   "outputs": [],
   "source": [
    "# # UNCOMMENT BELOW TO USE WITH GOOGLE COLAB\n",
    "# # Import PyDrive and associated libraries.\n",
    "# # This only needs to be done once per notebook.\n",
    "# # Documentation found here: https://colab.research.google.com/notebooks/io.ipynb#scrollTo=7taylj9wpsA2\n",
    "# from pydrive.auth import GoogleAuth\n",
    "# from pydrive.drive import GoogleDrive\n",
    "# from google.colab import auth\n",
    "# from oauth2client.client import GoogleCredentials\n",
    "\n",
    "# # Authenticate and create the PyDrive client.\n",
    "# # This only needs to be done once per notebook.\n",
    "# auth.authenticate_user()\n",
    "# gauth = GoogleAuth()\n",
    "# gauth.credentials = GoogleCredentials.get_application_default()\n",
    "# drive = GoogleDrive(gauth)"
   ]
  },
  {
   "cell_type": "code",
   "execution_count": null,
   "id": "89e6adab",
   "metadata": {},
   "outputs": [],
   "source": [
    "# # UNCOMMENT BELOW TO USE WITH GOOGLE COLAB\n",
    "# # Link to data file stored in Drive: https://drive.google.com/file/d/18ut1gQQ65aoQeV0iUQlneNhecpGR51dz/view?usp=sharing\n",
    "# file_id = '18ut1gQQ65aoQeV0iUQlneNhecpGR51dz' # notice where this string comes from in link above\n",
    "\n",
    "# imported_file = drive.CreateFile({'id': file_id}) # creating an accessible copy of the shared data file\n",
    "# print(imported_file['title'])  # it should print the title of desired file\n",
    "# imported_file.GetContentFile(imported_file['title']) # refer to it in this notebook by the same name as it has in Drive"
   ]
  },
  {
   "cell_type": "code",
   "execution_count": null,
   "id": "8c4c1437",
   "metadata": {},
   "outputs": [],
   "source": [
    "# load our data\n",
    "ppp_data = pd.read_csv('public_150k_plus_borrower_fingerprint_a.csv')"
   ]
  },
  {
   "cell_type": "code",
   "execution_count": null,
   "id": "23bf9fc7",
   "metadata": {},
   "outputs": [],
   "source": [
    "# convert the `DateApproved` column to an actual datetime data type\n",
    "ppp_data['DateApproved'] = pd.to_datetime(ppp_data['DateApproved'])\n",
    "\n",
    "# create a variable to hold the second-round start date\n",
    "second_round_start = pd.to_datetime('2021-01-13')\n",
    "\n",
    "# treat today's date to use as the \"upper\" limit on possible second-round loans\n",
    "todays_date = pd.to_datetime('today')\n",
    "\n",
    "# use 1/1/2020 as a \"lower\" limit, since it's before the PPP launched\n",
    "program_start = pd.to_datetime('2020-01-01')"
   ]
  },
  {
   "cell_type": "code",
   "execution_count": null,
   "id": "efb98b2f",
   "metadata": {},
   "outputs": [],
   "source": [
    "# pass our boundaries and category labels to the pandas `cut()` function\n",
    "loan_round = pd.cut(ppp_data.DateApproved,\n",
    " bins=[program_start,second_round_start, todays_date],\n",
    " labels=['first_round', 'maybe_second'])\n",
    "\n",
    "# insert the new column at the position we specify\n",
    "ppp_data.insert(2,'Loan Round',loan_round)"
   ]
  },
  {
   "cell_type": "code",
   "execution_count": null,
   "id": "672643e4",
   "metadata": {},
   "outputs": [],
   "source": [
    "# this \"pivot table\" will return a Series showing the number\n",
    "# of times a particular 'BorrowerNameFingerprint' appears in the dataset\n",
    "loan_count = ppp_data.pivot_table(index=['BorrowerNameFingerprint'],\n",
    " aggfunc='size')\n",
    "\n",
    "# convert our Series to a DataFrame and give it a name\n",
    "loan_count_df = loan_count.to_frame('Loan Count')\n",
    "\n",
    "# use the `describe()` method to print out summary statistics\n",
    "print(\"Description of duplicate borrower table:\")\n",
    "print(loan_count_df.describe())"
   ]
  },
  {
   "cell_type": "code",
   "execution_count": null,
   "id": "5e10b908",
   "metadata": {},
   "outputs": [],
   "source": [
    "# start by sorting our DataFrame of loan counts from greatest to least\n",
    "sorted_loan_counts = loan_count_df.sort_values(by=['Loan Count'],\n",
    " ascending=False)\n",
    "\n",
    "# create a new DataFrame with *only* those that have more than two loans\n",
    "more_than_two = sorted_loan_counts[sorted_loan_counts['Loan Count'] > 2]\n",
    "\n",
    "# print one instance of each business name that appears in `more_than_two`\n",
    "print(\"Businesses that seem to have gotten more than 2 loans:\")\n",
    "print(more_than_two.shape)\n",
    "print(\"Number of businesses that appear to have gotten precisely 2 loans:\")\n",
    "precisely_two = sorted_loan_counts[sorted_loan_counts['Loan Count'] == 2]\n",
    "print(precisely_two.shape)"
   ]
  },
  {
   "cell_type": "code",
   "execution_count": null,
   "id": "7468154a",
   "metadata": {},
   "outputs": [],
   "source": [
    "# use `ProcessingMethod` value to identify second-round loans\n",
    "pps_loans = ppp_data[ppp_data['ProcessingMethod'] == 'PPS']\n",
    "\n",
    "# print out the `shape` of this DataFrame to see how many businesses we have\n",
    "print(\"Number of loans labeled as second round:\")\n",
    "print(pps_loans.shape)"
   ]
  },
  {
   "cell_type": "code",
   "execution_count": null,
   "id": "bc5dd1d3",
   "metadata": {},
   "outputs": [],
   "source": [
    "# how many loans in our derived data frame were approved for precisely $2M\n",
    "# during the (possibly) second-round timeframe?\n",
    "# merge our `loan_count_df` back to keep track of businesses\n",
    "# we labeled as having precisely two loans\n",
    "ppp_data_w_lc = pd.merge(ppp_data, loan_count_df,\n",
    " on=['BorrowerNameFingerprint'], how='left')\n",
    "\n",
    "# now get *all* the records of business names we associated with two loans\n",
    "matched_two_loans = ppp_data_w_lc[(ppp_data_w_lc['Loan Count'] == 2)]\n",
    "\n",
    "# select those loans our `maybe_second` loans that have a value of $2M\n",
    "maybe_round2_2M = matched_two_loans[\n",
    " (matched_two_loans['CurrentApprovalAmount'] == 2000000.00) &\n",
    " (matched_two_loans['Loan Round'] == 'maybe_second')]\n",
    "print(\"Derived $2M second-round loans:\")\n",
    "print(maybe_round2_2M.shape)\n",
    "\n",
    "# select those loans that we *know* are second round and have a value of $2M\n",
    "pps_got_2M = pps_loans[pps_loans['CurrentApprovalAmount'] == 2000000.00]\n",
    "print(\"Actual $2M second-round loans:\")\n",
    "print(pps_got_2M.shape)"
   ]
  },
  {
   "cell_type": "code",
   "execution_count": null,
   "id": "b189f293",
   "metadata": {},
   "outputs": [],
   "source": [
    "# isolate the fingerprints of businesses that got $2M second-round loans approved\n",
    "biz_names = pd.unique(pps_got_2M['BorrowerNameFingerprint'])\n",
    "\n",
    "# convert that list to a DataFrame\n",
    "biz_names_df = pd.DataFrame(biz_names, columns=['BorrowerNameFingerprint'])\n",
    "\n",
    "# create a new array of the same length as our biz_names_df and fill with\n",
    "# a flag value\n",
    "fill_column = np.full((len(biz_names),1), '2Mil2ndRnd')\n",
    "biz_names_df['GotSecond'] = fill_column\n",
    "\n",
    "# now merge this new, two-column DataFrame back onto our full_data list,\n",
    "# so that we (hopefully) find their first-round loans as well\n",
    "second_round_max = pd.merge(ppp_data_w_lc, biz_names_df,\n",
    " on='BorrowerNameFingerprint')"
   ]
  },
  {
   "cell_type": "code",
   "execution_count": null,
   "id": "71c43a74",
   "metadata": {},
   "outputs": [],
   "source": [
    "# now all the loans that share fingerprints with the ones that got the max\n",
    "# amount in the second round should have the flag value '2Mil2ndRnd' in the\n",
    "# 'GotSecond' column\n",
    "second_max_all_loans = second_round_max[\n",
    " second_round_max['GotSecond'] == '2Mil2ndRnd']\n",
    "\n",
    "# we expect this to be twice the number of businesses that received $2M\n",
    "# second-round loans\n",
    "print('Total # of loans approved for most orgs that got $2M for second round:')\n",
    "print(second_max_all_loans.shape)"
   ]
  },
  {
   "cell_type": "code",
   "execution_count": null,
   "id": "da055a4d",
   "metadata": {},
   "outputs": [],
   "source": [
    "# how much money were these businesses approved to get from the PPP, total?\n",
    "total_funds = second_max_all_loans['CurrentApprovalAmount'].sum()\n",
    "print(\"Total funds approved for identified orgs that could have \" + \\\n",
    " \"second-round max:\")\n",
    "print(total_funds)"
   ]
  },
  {
   "cell_type": "code",
   "execution_count": null,
   "id": "45fb4985",
   "metadata": {},
   "outputs": [],
   "source": [
    "# plot our date-based `Loan Round`-labeled data next to records\n",
    "# separated by `ProcessingMethod`. Do we get the same results?\n",
    "# set the seaborn theme\n",
    "sns.set_theme(style=\"whitegrid\")\n",
    "\n",
    "# use `matplotlib` `subplots()` to plot charts next to each other\n",
    "# use `tuples` to access the different subplots later\n",
    "fig, ((row1col1, row1col2)) = plt.subplots(nrows=1, ncols=2)\n",
    "\n",
    "# plot the histogram of our date-based analysis\n",
    "date_based = sns.histplot(data=second_max_all_loans, x='CurrentApprovalAmount',\n",
    " hue='Loan Round', ax=row1col1)\n",
    "\n",
    "# plot the histogram of our data-based analysis\n",
    "data_based = sns.histplot(data=second_max_all_loans, x='CurrentApprovalAmount',\n",
    " hue='ProcessingMethod', ax=row1col2)\n",
    "\n",
    "# show the plot!\n",
    "plt.show()"
   ]
  }
 ],
 "metadata": {
  "kernelspec": {
   "display_name": "Python 3 (ipykernel)",
   "language": "python",
   "name": "python3"
  },
  "language_info": {
   "codemirror_mode": {
    "name": "ipython",
    "version": 3
   },
   "file_extension": ".py",
   "mimetype": "text/x-python",
   "name": "python",
   "nbconvert_exporter": "python",
   "pygments_lexer": "ipython3",
   "version": "3.9.5"
  }
 },
 "nbformat": 4,
 "nbformat_minor": 5
}

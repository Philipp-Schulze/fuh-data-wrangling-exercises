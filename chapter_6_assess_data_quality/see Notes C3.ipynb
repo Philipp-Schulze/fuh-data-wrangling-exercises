{
 "cells": [
  {
   "cell_type": "markdown",
   "metadata": {},
   "source": []
  },
  {
   "cell_type": "markdown",
   "metadata": {},
   "source": [
    "getting first information about the data:\n",
    "\n",
    "* overview: info(), head(), shape()\n",
    "* numbers: mean, median, variance, NaN\n",
    "* nominal values: spelling, capitalization"
   ]
  }
 ],
 "metadata": {
  "language_info": {
   "name": "python"
  }
 },
 "nbformat": 4,
 "nbformat_minor": 2
}

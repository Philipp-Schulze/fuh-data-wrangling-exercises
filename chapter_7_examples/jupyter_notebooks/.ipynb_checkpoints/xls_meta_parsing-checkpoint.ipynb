{
 "cells": [
  {
   "cell_type": "code",
   "execution_count": null,
   "metadata": {},
   "outputs": [],
   "source": [
    "# Converting data in an .xls file with Python to csv + metadata file\n",
    "# using the \"xrld\" library. First, pip install the xlrd library:\n",
    "# https://pypi.org/project/xlrd/2.0.1/\n",
    "\n",
    "# import the \"xlrd\" library\n",
    "import xlrd\n",
    "\n",
    "# import the `csv` library, to create our output file\n",
    "import csv"
   ]
  },
  {
   "cell_type": "code",
   "execution_count": null,
   "metadata": {},
   "outputs": [],
   "source": [
    "# # UNCOMMENT BELOW TO USE WITH GOOGLE COLAB\n",
    "# from google.colab import files"
   ]
  },
  {
   "cell_type": "code",
   "execution_count": null,
   "metadata": {},
   "outputs": [],
   "source": [
    "# # UNCOMMENT BELOW TO USE WITH GOOGLE COLAB\n",
    "# # Import PyDrive and associated libraries.\n",
    "# # This only needs to be done once per notebook.\n",
    "# # Documentation found here: https://colab.research.google.com/notebooks/io.ipynb#scrollTo=7taylj9wpsA2\n",
    "# from pydrive.auth import GoogleAuth\n",
    "# from pydrive.drive import GoogleDrive\n",
    "# from google.colab import auth\n",
    "# from oauth2client.client import GoogleCredentials\n",
    "\n",
    "# # Authenticate and create the PyDrive client.\n",
    "# # This only needs to be done once per notebook.\n",
    "# auth.authenticate_user()\n",
    "# gauth = GoogleAuth()\n",
    "# gauth.credentials = GoogleCredentials.get_application_default()\n",
    "# drive = GoogleDrive(gauth)"
   ]
  },
  {
   "cell_type": "code",
   "execution_count": null,
   "metadata": {},
   "outputs": [],
   "source": [
    "# # UNCOMMENT BELOW TO USE WITH GOOGLE COLAB\n",
    "# # Link to data file stored in Drive: https://docs.google.com/spreadsheets/d/1r2Rvx_gMvKZKM982tKfiArcXGb4dnTgj/edit?usp=sharing&ouid=113632348659119685771&rtpof=true&sd=true\n",
    "# file_id = '1r2Rvx_gMvKZKM982tKfiArcXGb4dnTgj' # notice where this string comes from in link above\n",
    "\n",
    "# imported_file = drive.CreateFile({'id': file_id}) # creating an accessible copy of the shared data file\n",
    "# print(imported_file['title'])  # it should print the title of desired file\n",
    "# imported_file.GetContentFile(imported_file['title']) # refer to it in this notebook by the same name as it has in Drive"
   ]
  },
  {
   "cell_type": "code",
   "execution_count": null,
   "metadata": {},
   "outputs": [],
   "source": [
    "# pass our filename as an ingredient to the `xlrd` library's\n",
    "# `open_workbook()` \"recipe\"\n",
    "# store the result in a variable called `source_workbook`\n",
    "source_workbook = xlrd.open_workbook(\"fredgraph.xls\")"
   ]
  },
  {
   "cell_type": "code",
   "execution_count": null,
   "metadata": {},
   "outputs": [],
   "source": [
    "# open and name a simple metadata text file\n",
    "source_workbook_metadata = open(\"fredgraph_metadata.txt\",\"w\")"
   ]
  },
  {
   "cell_type": "code",
   "execution_count": null,
   "metadata": {},
   "outputs": [],
   "source": [
    "# an `.xls` workbook can have multiple sheets\n",
    "for sheet_name in source_workbook.sheet_names():\n",
    "\n",
    "    # create a variable that points to the current worksheet by\n",
    "    # passing the current value of `sheet_name` to the `sheet_by_name` recipe\n",
    "    current_sheet = source_workbook.sheet_by_name(sheet_name)\n",
    "\n",
    "    # create \"xls_\"+sheet_name+\".csv\" as an output file for the current sheet\n",
    "    output_file = open(\"xls_\"+sheet_name+\".csv\",\"w\")\n",
    "\n",
    "    # use the `csv` library's \"writer\" recipe to easily write rows of data\n",
    "    # to `output_file`, instead of reading data *from* it\n",
    "    output_writer = csv.writer(output_file)\n",
    "\n",
    "    # create a Boolean variable to detect if we've hit our table-type data yet\n",
    "    is_table_data = False\n",
    "\n",
    "    # now, we need to loop through every row in our sheet\n",
    "    for row_num, row in enumerate(current_sheet.get_rows()):\n",
    "\n",
    "        # pulling out the value in the first column of the current row\n",
    "        first_entry = current_sheet.row_values(row_num)[0]\n",
    "\n",
    "        # if we've hit the header row of our data table\n",
    "        if first_entry == 'observation_date':\n",
    "\n",
    "            # it's time to switch our \"flag\" value to \"True\"\n",
    "            is_table_data = True\n",
    "\n",
    "        # if `is_table_data` is True\n",
    "        if is_table_data:\n",
    "\n",
    "            # write this row to the data output file\n",
    "            output_writer.writerow(current_sheet.row_values(row_num))\n",
    "\n",
    "        # otherwise, this row must be metadata\n",
    "        else:\n",
    "\n",
    "            # since we'd like our metadata file to be nicely formatted, we\n",
    "            # need to loop through the individual cells of each metadata row\n",
    "            for item in current_sheet.row(row_num):\n",
    "\n",
    "                # write the value of the cell\n",
    "                source_workbook_metadata.write(item.value)\n",
    "\n",
    "                # separate it from the next cell with a tab\n",
    "                source_workbook_metadata.write('\\t')\n",
    "\n",
    "                # at the end of each line of metadata, add a newline\n",
    "                source_workbook_metadata.write('\\n')\n",
    "\n",
    "    # just for good measure, let's close our output files\n",
    "    output_file.close()\n",
    "    source_workbook_metadata.close()"
   ]
  },
  {
   "cell_type": "code",
   "execution_count": null,
   "metadata": {},
   "outputs": [],
   "source": [
    "#     # UNCOMMENT BELOW TO USE WITH GOOGLE COLAB\n",
    "\n",
    "#     files.download(\"xls_\"+sheet_name+\".csv\")\n",
    "#     files.download(\"fredgraph_metadata.txt\")"
   ]
  }
 ],
 "metadata": {
  "kernelspec": {
   "display_name": "Python 3 (ipykernel)",
   "language": "python",
   "name": "python3"
  },
  "language_info": {
   "codemirror_mode": {
    "name": "ipython",
    "version": 3
   },
   "file_extension": ".py",
   "mimetype": "text/x-python",
   "name": "python",
   "nbconvert_exporter": "python",
   "pygments_lexer": "ipython3",
   "version": "3.9.5"
  }
 },
 "nbformat": 4,
 "nbformat_minor": 4
}

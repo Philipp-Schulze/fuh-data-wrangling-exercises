{
 "cells": [
  {
   "cell_type": "code",
   "execution_count": null,
   "metadata": {},
   "outputs": [],
   "source": [
    "# The goal of this script is to try out how a couple of regular expressions\n",
    "# fare with some sample test data.\n",
    "\n",
    "# import the regular expression library\n",
    "import re"
   ]
  },
  {
   "cell_type": "code",
   "execution_count": null,
   "metadata": {},
   "outputs": [],
   "source": [
    "# using the `re.compile()` method is a helpful way of keeping a reference to\n",
    "# our various regular expressions\n",
    "bookend_regex = re.compile(\"\\s0[7-9]:\")\n",
    "\n",
    "# always try to be descriptive with the variable names\n",
    "one_sided_regex = re.compile(\"0[7-9]:\")"
   ]
  },
  {
   "cell_type": "code",
   "execution_count": null,
   "metadata": {},
   "outputs": [],
   "source": [
    "# this example should *fail*\n",
    "sample1 = \"2020-09-01 00:00:01.0430\""
   ]
  },
  {
   "cell_type": "code",
   "execution_count": null,
   "metadata": {},
   "outputs": [],
   "source": [
    "# this example should *match*\n",
    "sample2 = \"2020-09-01 09:04:23.7930\""
   ]
  },
  {
   "cell_type": "code",
   "execution_count": null,
   "metadata": {},
   "outputs": [],
   "source": [
    "# this example should *fail*\n",
    "sample3 = \"2020-09-01 10:07:02.0510\""
   ]
  },
  {
   "cell_type": "code",
   "execution_count": null,
   "metadata": {},
   "outputs": [],
   "source": [
    "# let's see what happens!\n",
    "print(\"bookend_regex:\")\n",
    "print(bookend_regex.search(sample1))\n",
    "print(bookend_regex.search(sample2))\n",
    "print(bookend_regex.search(sample3))"
   ]
  },
  {
   "cell_type": "code",
   "execution_count": null,
   "metadata": {},
   "outputs": [],
   "source": [
    "print(\"one_sided_regex:\")\n",
    "print(one_sided_regex.search(sample1))\n",
    "print(one_sided_regex.search(sample2))\n",
    "print(one_sided_regex.search(sample3))"
   ]
  }
 ],
 "metadata": {
  "kernelspec": {
   "display_name": "Python 3 (ipykernel)",
   "language": "python",
   "name": "python3"
  },
  "language_info": {
   "codemirror_mode": {
    "name": "ipython",
    "version": 3
   },
   "file_extension": ".py",
   "mimetype": "text/x-python",
   "name": "python",
   "nbconvert_exporter": "python",
   "pygments_lexer": "ipython3",
   "version": "3.9.5"
  }
 },
 "nbformat": 4,
 "nbformat_minor": 4
}

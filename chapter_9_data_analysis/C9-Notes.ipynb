{
 "cells": [
  {
   "cell_type": "markdown",
   "metadata": {},
   "source": [
    "# context is important\n",
    "\n",
    "* eg buying apple for 50 vs 25 ct\n",
    "  \n",
    "* important: difference mean and median\n",
    "* mean is not good with outliers\n",
    "* median chooses middle value\n",
    "\n",
    "* outliers vs clusters\n",
    "\n",
    "## outliers\n",
    "\n",
    "* visual is easy for humans, see histogram\n",
    "* symmetry and density\n",
    "  \n",
    "* gaussian: mean and standard deviations (1 to 3\n",
    "  \n",
    "* quantiles: q1, q2 = mean, q3\n",
    "* meaning: q1 = if value smaller, its smaller than 75% of data set\n",
    "* IQR = q3 - q1\n",
    "* lower bound = q1 - 1.5 * IQR\n",
    "* upper bound = q3 + 1.5 * IQR\n",
    "\n",
    "## clusters\n",
    "\n",
    "* pattern violations\n",
    "* try to explain within the context\n",
    "\n",
    "# conclusion\n",
    "\n",
    "* more questions than answers\n",
    "* path of questions and answers\n",
    "  \n",
    "* sometimes direct human input needed\n"
   ]
  }
 ],
 "metadata": {
  "language_info": {
   "name": "python"
  }
 },
 "nbformat": 4,
 "nbformat_minor": 2
}

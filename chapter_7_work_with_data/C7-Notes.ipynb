{
 "cells": [
  {
   "cell_type": "markdown",
   "metadata": {},
   "source": [
    "# Working with Data\n",
    "\n",
    "## Book\n",
    "\n",
    "* handling NaN values\n",
    "* remove duplicates\n",
    "* correct inconsistencies (dates, units, strings)\n",
    "* normalization (0..1, z score)\n",
    "* encoding (categorical to numerical values)\n",
    "* augmenting (extract single infos, combining columns -> new infos)\n",
    "\n",
    "## Excercises\n",
    "\n",
    "* splitting columns\n",
    "* searching with regex\n",
    "* use datetime\n",
    "* decrufting data: meta in txt, data in csv\n",
    "* working with fixed width data\n",
    "* adding fingerprints to have unique ID, joining two columns\n",
    "* augmenting data, joining two datasets\n",
    "\n",
    "## Big Mistakes\n",
    "\n",
    "* capitalization\n",
    "* data types\n",
    "* indentations"
   ]
  }
 ],
 "metadata": {
  "language_info": {
   "name": "python"
  }
 },
 "nbformat": 4,
 "nbformat_minor": 2
}

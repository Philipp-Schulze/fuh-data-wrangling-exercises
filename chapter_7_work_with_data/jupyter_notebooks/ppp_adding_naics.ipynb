{
 "cells": [
  {
   "cell_type": "code",
   "execution_count": null,
   "metadata": {},
   "outputs": [],
   "source": [
    "# script to merge our PPP loan data with information from the SBA's NAICS\n",
    "# size requirements, found here:\n",
    "# https://www.sba.gov/document/support--table-size-standards\n",
    "\n",
    "# import pandas to facilitate the merging and sorting\n",
    "import pandas as pd"
   ]
  },
  {
   "cell_type": "code",
   "execution_count": null,
   "metadata": {},
   "outputs": [],
   "source": [
    "# # UNCOMMENT BELOW TO USE WITH GOOGLE COLAB\n",
    "# # Import PyDrive and associated libraries.\n",
    "# # This only needs to be done once per notebook.\n",
    "# # Documentation found here: https://colab.research.google.com/notebooks/io.ipynb#scrollTo=7taylj9wpsA2\n",
    "# from pydrive.auth import GoogleAuth\n",
    "# from pydrive.drive import GoogleDrive\n",
    "# from google.colab import auth\n",
    "# from oauth2client.client import GoogleCredentials\n",
    "\n",
    "# # Authenticate and create the PyDrive client.\n",
    "# # This only needs to be done once per notebook.\n",
    "# auth.authenticate_user()\n",
    "# gauth = GoogleAuth()\n",
    "# gauth.credentials = GoogleCredentials.get_application_default()\n",
    "# drive = GoogleDrive(gauth)"
   ]
  },
  {
   "cell_type": "code",
   "execution_count": null,
   "metadata": {},
   "outputs": [],
   "source": [
    "# # UNCOMMENT BELOW TO USE WITH GOOGLE COLAB\n",
    "# # This is the \"fingerprinted\" PPP data \n",
    "# # Link to data file stored in Drive: https://drive.google.com/file/d/1RN_RzNxWn3P6OQfOqmoaV6fO5IgKqcGc/view?usp=sharing\n",
    "# file_id = '1RN_RzNxWn3P6OQfOqmoaV6fO5IgKqcGc' # notice where this string comes from in link above\n",
    "\n",
    "# imported_file = drive.CreateFile({'id': file_id}) # creating an accessible copy of the shared data file\n",
    "# print(imported_file['title'])  # it should print the title of desired file\n",
    "# imported_file.GetContentFile(imported_file['title']) # refer to it in this notebook by the same name as it has in Drive"
   ]
  },
  {
   "cell_type": "code",
   "execution_count": null,
   "metadata": {},
   "outputs": [],
   "source": [
    "# # UNCOMMENT BELOW TO USE WITH GOOGLE COLAB\n",
    "# # This is the NAICS code information\n",
    "# # Link to data file stored in Drive: https://drive.google.com/file/d/13xyghGelHGndObQRSrnRWftnpl83O17f/view?usp=sharing\n",
    "# file_id = '13xyghGelHGndObQRSrnRWftnpl83O17f' # notice where this string comes from in link above\n",
    "\n",
    "# imported_file = drive.CreateFile({'id': file_id}) # creating an accessible copy of the shared data file\n",
    "# print(imported_file['title'])  # it should print the title of desired file\n",
    "# imported_file.GetContentFile(imported_file['title']) # refer to it in this notebook by the same name as it has in Drive"
   ]
  },
  {
   "cell_type": "code",
   "execution_count": null,
   "metadata": {},
   "outputs": [],
   "source": [
    "# read our PPP loan data into a new DataFrame\n",
    "ppp_data = pd.read_csv('public_150k_plus_fingerprints.csv', dtype='string')\n",
    "\n",
    "# read the NAICS data into a separate DataFrame\n",
    "sba_naics_data = pd.read_csv('SBA-NAICS-data.csv', dtype='string')"
   ]
  },
  {
   "cell_type": "code",
   "execution_count": null,
   "metadata": {},
   "outputs": [],
   "source": [
    "# if there's no value in the 'NAICSCode' column, replace it with \"None\"\n",
    "ppp_data['NAICSCode'] = ppp_data['NAICSCode'].fillna(\"None\")"
   ]
  },
  {
   "cell_type": "code",
   "execution_count": null,
   "metadata": {},
   "outputs": [],
   "source": [
    "# merge the two datasets using a \"left\" merge\n",
    "merged_data = pd.merge(ppp_data, sba_naics_data, how='left',\n",
    " left_on=['NAICSCode'], right_on=['NAICS Codes'],\n",
    " indicator=True)"
   ]
  },
  {
   "cell_type": "code",
   "execution_count": null,
   "metadata": {},
   "outputs": [],
   "source": [
    "# open a file to save our merged data to\n",
    "merged_data_file = open('ppp-fingerprints-and-naics.csv', 'w')\n",
    "\n",
    "# write the merged data to an output file as a CSV\n",
    "merged_data_file.write(merged_data.to_csv())\n",
    "\n",
    "# print out the values in the '_merge' column to see how many\n",
    "# entries in our loan data don't get matched to a NAICS code\n",
    "print(merged_data.value_counts('_merge'))"
   ]
  },
  {
   "cell_type": "code",
   "execution_count": null,
   "metadata": {},
   "outputs": [],
   "source": [
    "# create a new DataFrame that is *just* the unmatched rows\n",
    "unmatched_values = merged_data[merged_data['_merge']=='left_only']\n",
    "\n",
    "# open a file to write the unmatched values to\n",
    "unmatched_values_file = open('ppp-unmatched-naics-codes.csv', 'w')\n",
    "\n",
    "# write a new CSV file that contains all the unmatched NAICS codes in our\n",
    "# PPP loan data, along with how many times it appears\n",
    "unmatched_values_file.write(unmatched_values.value_counts('NAICSCode').to_csv())"
   ]
  },
  {
   "cell_type": "code",
   "execution_count": null,
   "metadata": {},
   "outputs": [],
   "source": [
    "# # UNCOMMENT BELOW TO USE WITH GOOGLE COLAB\n",
    "# from google.colab import files\n",
    "# files.download('ppp-fingerprints-and-naics.csv')\n",
    "# files.download('ppp-unmatched-naics-codes.csv')"
   ]
  }
 ],
 "metadata": {
  "kernelspec": {
   "display_name": "Python 3 (ipykernel)",
   "language": "python",
   "name": "python3"
  },
  "language_info": {
   "codemirror_mode": {
    "name": "ipython",
    "version": 3
   },
   "file_extension": ".py",
   "mimetype": "text/x-python",
   "name": "python",
   "nbconvert_exporter": "python",
   "pygments_lexer": "ipython3",
   "version": "3.9.5"
  }
 },
 "nbformat": 4,
 "nbformat_minor": 4
}

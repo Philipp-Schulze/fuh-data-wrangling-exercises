{
 "cells": [
  {
   "cell_type": "code",
   "execution_count": null,
   "metadata": {},
   "outputs": [],
   "source": [
    "# An example of reading data from a fixed-width file with Python.\n",
    "# The source file for this example comes from the NOAA, and can be accessed here:\n",
    "# https://www1.ncdc.noaa.gov/pub/data/ghcn/daily/ghcnd-stations.txt\n",
    "# The metadata for the file can be found here:\n",
    "# https://www1.ncdc.noaa.gov/pub/data/ghcn/daily/readme.txt\n",
    "\n",
    "# import the `csv` library, to create our output file\n",
    "import csv"
   ]
  },
  {
   "cell_type": "code",
   "execution_count": null,
   "metadata": {},
   "outputs": [],
   "source": [
    "# # UNCOMMENT BELOW TO USE WITH GOOGLE COLAB\n",
    "# # Import PyDrive and associated libraries.\n",
    "# # This only needs to be done once per notebook.\n",
    "# # Documentation found here: https://colab.research.google.com/notebooks/io.ipynb#scrollTo=7taylj9wpsA2\n",
    "# from pydrive.auth import GoogleAuth\n",
    "# from pydrive.drive import GoogleDrive\n",
    "# from google.colab import auth\n",
    "# from oauth2client.client import GoogleCredentials\n",
    "\n",
    "# # Authenticate and create the PyDrive client.\n",
    "# # This only needs to be done once per notebook.\n",
    "# auth.authenticate_user()\n",
    "# gauth = GoogleAuth()\n",
    "# gauth.credentials = GoogleCredentials.get_application_default()\n",
    "# drive = GoogleDrive(gauth)"
   ]
  },
  {
   "cell_type": "code",
   "execution_count": null,
   "metadata": {},
   "outputs": [],
   "source": [
    "# # UNCOMMENT BELOW TO USE WITH GOOGLE COLAB\n",
    "# # Link to data file stored in Drive: https://drive.google.com/file/d/1IzNZmX9HugMcNdoOG2rU_RGym79yaYDc/view?usp=sharing\n",
    "# file_id = '1IzNZmX9HugMcNdoOG2rU_RGym79yaYDc' # notice where this string comes from in link above\n",
    "\n",
    "# imported_file = drive.CreateFile({'id': file_id}) # creating an accessible copy of the shared data file\n",
    "# print(imported_file['title'])  # it should print the title of desired file\n",
    "# imported_file.GetContentFile(imported_file['title']) # refer to it in this notebook by the same name as it has in Drive"
   ]
  },
  {
   "cell_type": "code",
   "execution_count": null,
   "metadata": {},
   "outputs": [],
   "source": [
    "filename = \"ghcnd-stations\"\n",
    "\n",
    "# reading from a basic text file doesn't require any special libraries\n",
    "# so we'll just open the file in read format (\"r\") as usual\n",
    "source_file = open(filename+\".txt\", \"r\")\n",
    "\n",
    "# the built-in \"readlines()\" method does just what you'd think:\n",
    "# it reads in a text file and converts it to a list of lines\n",
    "stations_list = source_file.readlines()"
   ]
  },
  {
   "cell_type": "code",
   "execution_count": null,
   "metadata": {},
   "outputs": [],
   "source": [
    "# create an output file for our transformed data\n",
    "output_file = open(filename+\".csv\",\"w\")\n",
    "\n",
    "# use the `csv` library's \"writer\" recipe to easily write rows of data\n",
    "# to `output_file`, instead of reading data *from* it\n",
    "output_writer = csv.writer(output_file)"
   ]
  },
  {
   "cell_type": "code",
   "execution_count": null,
   "metadata": {},
   "outputs": [],
   "source": [
    "# create the header list\n",
    "headers = [\"ID\",\"LATITUDE\",\"LONGITUDE\",\"ELEVATION\",\"STATE\",\"NAME\",\"GSN_FLAG\",\n",
    " \"HCNCRN_FLAG\",\"WMO_ID\"]\n",
    "\n",
    "# write our headers to the output file\n",
    "output_writer.writerow(headers)"
   ]
  },
  {
   "cell_type": "code",
   "execution_count": null,
   "metadata": {},
   "outputs": [],
   "source": [
    "# loop through each line of our file (multiple \"sheets\" are not possible)\n",
    "for line in stations_list:\n",
    "\n",
    "    # create an empty list, to which we'll append each set of characters that\n",
    "    # makes up a given \"column\" of data\n",
    "    new_row = []\n",
    "\n",
    "    # ID: positions 1-11\n",
    "    new_row.append((line[0:11]).strip())\n",
    "\n",
    "    # LATITUDE: positions 13-20\n",
    "    new_row.append((line[12:20]).strip())\n",
    "\n",
    "    # LONGITUDE: positions 22-30\n",
    "    new_row.append((line[21:30]).strip())\n",
    "\n",
    "    # ELEVATION: positions 32-37\n",
    "    new_row.append((line[31:37]).strip())\n",
    "\n",
    "    # STATE: positions 39-40\n",
    "    new_row.append((line[38:40]).strip())\n",
    "\n",
    "    # NAME: positions 42-71\n",
    "    new_row.append((line[41:71]).strip())\n",
    "\n",
    "    # GSN_FLAG: positions 73-75\n",
    "    new_row.append((line[72:75]).strip())\n",
    "\n",
    "    # HCNCRN_FLAG: positions 77-79\n",
    "    new_row.append((line[76:79]).strip())\n",
    "\n",
    "    # WMO_ID: positions 81-85\n",
    "    new_row.append((line[80:85]).strip())\n",
    "\n",
    "    # now all that's left is to use the\n",
    "    # `writerow` function to write new_row to our output file\n",
    "    output_writer.writerow(new_row)"
   ]
  },
  {
   "cell_type": "code",
   "execution_count": null,
   "metadata": {},
   "outputs": [],
   "source": [
    "# just for good measure, let's close the `.csv` file we just created\n",
    "output_file.close()"
   ]
  },
  {
   "cell_type": "code",
   "execution_count": null,
   "metadata": {},
   "outputs": [],
   "source": [
    "# # UNCOMMENT BELOW TO USE WITH GOOGLE COLAB\n",
    "# from google.colab import files\n",
    "# files.download(filename+\".csv\")"
   ]
  }
 ],
 "metadata": {
  "kernelspec": {
   "display_name": "Python 3 (ipykernel)",
   "language": "python",
   "name": "python3"
  },
  "language_info": {
   "codemirror_mode": {
    "name": "ipython",
    "version": 3
   },
   "file_extension": ".py",
   "mimetype": "text/x-python",
   "name": "python",
   "nbconvert_exporter": "python",
   "pygments_lexer": "ipython3",
   "version": "3.9.5"
  }
 },
 "nbformat": 4,
 "nbformat_minor": 4
}

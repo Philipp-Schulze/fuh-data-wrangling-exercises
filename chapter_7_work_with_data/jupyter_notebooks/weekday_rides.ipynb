{
 "cells": [
  {
   "cell_type": "code",
   "execution_count": 1,
   "metadata": {},
   "outputs": [],
   "source": [
    "# Objectives: Filter all September, 2020 Citi Bike rides, and output a new\n",
    "# file containing only weekday rides\n",
    "# Program Outline:\n",
    "# 1. Read in the data file: 202009-citibike-tripdata.csv\n",
    "# 2. Create a new output file, and write the header row to it.\n",
    "# 3. For each row in the file, make a date from the `starttime`:\n",
    "# a. if it's a weekday, write the row to our output file\n",
    "# 4. Close the output file\n",
    "\n",
    "# import the \"csv\" library\n",
    "import csv\n",
    "\n",
    "# import the \"datetime\" library\n",
    "from datetime import datetime"
   ]
  },
  {
   "cell_type": "code",
   "execution_count": 2,
   "metadata": {},
   "outputs": [],
   "source": [
    "# # UNCOMMENT BELOW TO USE WITH GOOGLE COLAB\n",
    "# # Import PyDrive and associated libraries.\n",
    "# # This only needs to be done once per notebook.\n",
    "# # Documentation found here: https://colab.research.google.com/notebooks/io.ipynb#scrollTo=7taylj9wpsA2\n",
    "# from pydrive.auth import GoogleAuth\n",
    "# from pydrive.drive import GoogleDrive\n",
    "# from google.colab import auth\n",
    "# from oauth2client.client import GoogleCredentials\n",
    "\n",
    "# # Authenticate and create the PyDrive client.\n",
    "# # This only needs to be done once per notebook.\n",
    "# auth.authenticate_user()\n",
    "# gauth = GoogleAuth()\n",
    "# gauth.credentials = GoogleCredentials.get_application_default()\n",
    "# drive = GoogleDrive(gauth)"
   ]
  },
  {
   "cell_type": "code",
   "execution_count": 3,
   "metadata": {},
   "outputs": [],
   "source": [
    "# # UNCOMMENT BELOW TO USE WITH GOOGLE COLAB\n",
    "# # Link to data file stored in Drive: https://drive.google.com/file/d/1IvPI7dBzbOGo9eWtUQYbCKLE06uglJPm/view?usp=sharing\n",
    "# file_id = '1IvPI7dBzbOGo9eWtUQYbCKLE06uglJPm' # notice where this string comes from in link above\n",
    "\n",
    "# imported_file = drive.CreateFile({'id': file_id}) # creating an accessible copy of the shared data file\n",
    "# print(imported_file['title'])  # it should print the title of desired file\n",
    "# imported_file.GetContentFile(imported_file['title']) # refer to it in this notebook by the same name as it has in Drive"
   ]
  },
  {
   "cell_type": "code",
   "execution_count": 4,
   "metadata": {},
   "outputs": [],
   "source": [
    "# open our data file in \"read\" mode\n",
    "source_file = open(\"202009-citibike-tripdata.csv\",\"r\")\n",
    "\n",
    "# open our output file in \"write\" mode\n",
    "output_file = open(\"202009-citibike-weekday-tripdata.csv\",\"w\")"
   ]
  },
  {
   "cell_type": "code",
   "execution_count": 5,
   "metadata": {},
   "outputs": [
    {
     "data": {
      "text/plain": [
       "225"
      ]
     },
     "execution_count": 5,
     "metadata": {},
     "output_type": "execute_result"
    }
   ],
   "source": [
    "# convert source data to a DictReader; store the result in `citibike_reader`\n",
    "citibike_reader = csv.DictReader(source_file)\n",
    "\n",
    "# create a corresponding DictWriter and specify its fieldnames\n",
    "output_writer = csv.DictWriter(output_file, fieldnames=citibike_reader.fieldnames)\n",
    "\n",
    "# actually write the header row to the output file\n",
    "output_writer.writeheader()"
   ]
  },
  {
   "cell_type": "code",
   "execution_count": 6,
   "metadata": {},
   "outputs": [],
   "source": [
    "# use a `for...in` loop to go through our `citibike_reader` list of rows\n",
    "for a_row in citibike_reader:\n",
    "\n",
    "    # convert the value in the 'starttime' column to a date object\n",
    "    the_date = datetime.strptime(a_row['starttime'], '%Y-%m-%d %H:%M:%S.%f')\n",
    "\n",
    "    # if `the_date` is a weekday\n",
    "    if the_date.weekday() <= 4:\n",
    "\n",
    "        # write that row of data to our output file\n",
    "        output_writer.writerow(a_row)"
   ]
  },
  {
   "cell_type": "code",
   "execution_count": 7,
   "metadata": {},
   "outputs": [],
   "source": [
    "# close the output file\n",
    "output_file.close()"
   ]
  },
  {
   "cell_type": "code",
   "execution_count": 8,
   "metadata": {},
   "outputs": [],
   "source": [
    "# # UNCOMMENT BELOW TO USE WITH GOOGLE COLAB\n",
    "# from google.colab import files\n",
    "\n",
    "# files.download(\"202009-citibike-weekday-tripdata.csv\")"
   ]
  }
 ],
 "metadata": {
  "kernelspec": {
   "display_name": "Python 3 (ipykernel)",
   "language": "python",
   "name": "python3"
  },
  "language_info": {
   "codemirror_mode": {
    "name": "ipython",
    "version": 3
   },
   "file_extension": ".py",
   "mimetype": "text/x-python",
   "name": "python",
   "nbconvert_exporter": "python",
   "pygments_lexer": "ipython3",
   "version": "3.9.5"
  }
 },
 "nbformat": 4,
 "nbformat_minor": 4
}

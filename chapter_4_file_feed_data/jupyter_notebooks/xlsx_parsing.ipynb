{
 "cells": [
  {
   "cell_type": "code",
   "execution_count": null,
   "metadata": {
    "id": "S7tHJBkZxyQA"
   },
   "outputs": [],
   "source": [
    "# An example of reading data from an .xlsx file with Python, using the \"openpyxl\"\n",
    "# library. First, you'll need to pip install the openpyxl library:\n",
    "# https://pypi.org/project/openpyxl/\n",
    "# The source data can be composed and downloaded from:\n",
    "# https://fred.stlouisfed.org/series/U6RATE"
   ]
  },
  {
   "cell_type": "code",
   "execution_count": null,
   "metadata": {
    "id": "PvI_oOkoxyQQ"
   },
   "outputs": [],
   "source": [
    "# specify the \"chapter\" you want to import from the \"openpyxl\" library\n",
    "# in this case, \"load_workbook\"\n",
    "from openpyxl import load_workbook\n",
    "\n",
    "# import the `csv` library, to create our output file\n",
    "import csv"
   ]
  },
  {
   "cell_type": "code",
   "execution_count": null,
   "metadata": {
    "id": "n0yOElDUxz0x"
   },
   "outputs": [],
   "source": [
    "# # UNCOMMENT BELOW TO USE WITH GOOGLE COLAB\n",
    "# # Import PyDrive and associated libraries.\n",
    "# # This only needs to be done once per notebook.\n",
    "# # Documentation found here: https://colab.research.google.com/notebooks/io.ipynb#scrollTo=7taylj9wpsA2\n",
    "# from pydrive.auth import GoogleAuth\n",
    "# from pydrive.drive import GoogleDrive\n",
    "# from google.colab import auth\n",
    "# from oauth2client.client import GoogleCredentials\n",
    "\n",
    "# # Authenticate and create the PyDrive client.\n",
    "# # This only needs to be done once per notebook.\n",
    "# auth.authenticate_user()\n",
    "# gauth = GoogleAuth()\n",
    "# gauth.credentials = GoogleCredentials.get_application_default()\n",
    "# drive = GoogleDrive(gauth)"
   ]
  },
  {
   "cell_type": "code",
   "execution_count": null,
   "metadata": {
    "id": "WmaSL14Lxz7g"
   },
   "outputs": [],
   "source": [
    "# # UNCOMMENT BELOW TO USE WITH GOOGLE COLAB\n",
    "# # Link to data file stored in Drive: https://docs.google.com/spreadsheets/d/1rXDiecjhxyqyKADm394-pJZIUvasEIaw/edit?usp=sharing&ouid=113632348659119685771&rtpof=true&sd=true\n",
    "# file_id = '1rXDiecjhxyqyKADm394-pJZIUvasEIaw' # notice where this string comes from in link above\n",
    "\n",
    "# imported_file = drive.CreateFile({'id': file_id}) # creating an accessible copy of the shared data file\n",
    "# print(imported_file['title'])  # it should print the title of desired file\n",
    "# imported_file.GetContentFile(imported_file['title']) # refer to it in this notebook by the same name as it has in Drive"
   ]
  },
  {
   "cell_type": "code",
   "execution_count": null,
   "metadata": {
    "id": "BCpP6_wbxyQS"
   },
   "outputs": [],
   "source": [
    "# Pass our filename as an ingredient to the `openpyxl` library's\n",
    "# `load_workbook()` \"recipe\"\n",
    "# store the result in a variable called `source_workbook`\n",
    "source_workbook = load_workbook(filename = 'fredgraph.xlsx')\n",
    "\n",
    "# an .xlsx workbook can have multiple sheets\n",
    "# print their names here for reference\n",
    "print(source_workbook.sheetnames)"
   ]
  },
  {
   "cell_type": "code",
   "execution_count": null,
   "metadata": {
    "id": "ttEoN7SBxyQU"
   },
   "outputs": [],
   "source": [
    "# loop through the worksheets in `source_workbook`\n",
    "for sheet_num, sheet_name in enumerate(source_workbook.sheetnames):\n",
    "\n",
    "    # create a variable that points to the current worksheet by\n",
    "    # passing the current value of `sheet_name` to `source_workbook`\n",
    "    current_sheet = source_workbook[sheet_name]\n",
    "\n",
    "    # print `sheet_name`, just to see what it is\n",
    "    print(sheet_name)\n",
    "\n",
    "    # create an output file called \"xlsx_\"+sheet_name\n",
    "    output_file = open(\"xlsx_\"+sheet_name+\".csv\",\"w\")\n",
    "\n",
    "    # use this csv library's \"writer\" recipe to easily write rows of data\n",
    "    # to `output_file`, instead of reading data *from* it\n",
    "    output_writer = csv.writer(output_file)\n",
    "\n",
    "    # loop through every row in our sheet\n",
    "    for row in current_sheet.iter_rows():\n",
    "\n",
    "        # we'll create an empty list where we'll put the actual\n",
    "        # values of the cells in each row\n",
    "        row_cells = []\n",
    "\n",
    "        # for every cell (or column) in each row....\n",
    "        for cell in row:\n",
    "\n",
    "            # let's print what's in here, just to see how the code sees it\n",
    "            print(cell, cell.value)\n",
    "\n",
    "            # add the values to the end of our list with the `append()` method\n",
    "            row_cells.append(cell.value)\n",
    "\n",
    "        # write our newly (re)constructed data row to the output file\n",
    "        output_writer.writerow(row_cells)"
   ]
  },
  {
   "cell_type": "code",
   "execution_count": null,
   "metadata": {
    "id": "9-kcBomZxyQX"
   },
   "outputs": [],
   "source": [
    "# officially close the `.csv` file we just wrote all that data to\n",
    "output_file.close()"
   ]
  },
  {
   "cell_type": "code",
   "execution_count": null,
   "metadata": {
    "id": "UivtBfRayCdx"
   },
   "outputs": [],
   "source": [
    "# # UNCOMMENT BELOW TO USE WITH GOOGLE COLAB\n",
    "# from google.colab import files\n",
    "\n",
    "# files.download(\"xlsx_\"+sheet_name+\".csv\")"
   ]
  }
 ],
 "metadata": {
  "colab": {
   "name": "xlsx_parsing.ipynb",
   "provenance": []
  },
  "kernelspec": {
   "display_name": "Python 3 (ipykernel)",
   "language": "python",
   "name": "python3"
  },
  "language_info": {
   "codemirror_mode": {
    "name": "ipython",
    "version": 3
   },
   "file_extension": ".py",
   "mimetype": "text/x-python",
   "name": "python",
   "nbconvert_exporter": "python",
   "pygments_lexer": "ipython3",
   "version": "3.9.5"
  }
 },
 "nbformat": 4,
 "nbformat_minor": 1
}

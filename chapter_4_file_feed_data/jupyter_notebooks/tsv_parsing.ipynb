{
 "cells": [
  {
   "cell_type": "code",
   "execution_count": null,
   "metadata": {
    "id": "xQoGRvdxvoaM"
   },
   "outputs": [],
   "source": [
    "# A simple example of reading data from a .tsv file with Python, using\n",
    "# the `csv` library. The source data was downloaded as a .tsv file\n",
    "# from Jed Shugerman's Google Sheet on prosecutor politicians:\n",
    "# https://docs.google.com/spreadsheets/d/1E6Z-jZWbrKmit_4lG36oyQ658Ta6Mh25HCOBaz7YVrA/"
   ]
  },
  {
   "cell_type": "code",
   "execution_count": null,
   "metadata": {
    "id": "sG_pXMiZvoaZ"
   },
   "outputs": [],
   "source": [
    "# import the `csv` library\n",
    "import csv"
   ]
  },
  {
   "cell_type": "code",
   "execution_count": null,
   "metadata": {
    "id": "uYZ3ZkJpvtIF"
   },
   "outputs": [],
   "source": [
    "# # UNCOMMENT BELOW TO USE WITH GOOGLE COLAB\n",
    "# # Import PyDrive and associated libraries.\n",
    "# # This only needs to be done once per notebook.\n",
    "# # Documentation found here: https://colab.research.google.com/notebooks/io.ipynb#scrollTo=7taylj9wpsA2\n",
    "# from pydrive.auth import GoogleAuth\n",
    "# from pydrive.drive import GoogleDrive\n",
    "# from google.colab import auth\n",
    "# from oauth2client.client import GoogleCredentials\n",
    "\n",
    "# # Authenticate and create the PyDrive client.\n",
    "# # This only needs to be done once per notebook.\n",
    "# auth.authenticate_user()\n",
    "# gauth = GoogleAuth()\n",
    "# gauth.credentials = GoogleCredentials.get_application_default()\n",
    "# drive = GoogleDrive(gauth)"
   ]
  },
  {
   "cell_type": "code",
   "execution_count": null,
   "metadata": {
    "id": "pG8G96bVvtQW"
   },
   "outputs": [],
   "source": [
    "# # UNCOMMENT BELOW TO USE WITH GOOGLE COLAB\n",
    "# # Link to data file stored in Drive: https://drive.google.com/file/d/1yno6V1Z3Wf9YRq7Ovd5SFfQi-jo7DJKb/view?usp=sharing\n",
    "# file_id = '1yno6V1Z3Wf9YRq7Ovd5SFfQi-jo7DJKb' # notice where this string comes from in link above\n",
    "\n",
    "# imported_file = drive.CreateFile({'id': file_id}) # creating an accessible copy of the shared data file\n",
    "# print(imported_file['title'])  # it should print the title of desired file\n",
    "# imported_file.GetContentFile(imported_file['title']) # refer to it in this notebook by the same name as it has in Drive"
   ]
  },
  {
   "cell_type": "code",
   "execution_count": null,
   "metadata": {
    "id": "POowsbo5vsSE"
   },
   "outputs": [],
   "source": [
    "# open the `ShugermanProsecutorPoliticians-SupremeCourtJustices.tsv` file\n",
    "# in read (\"r\") mode.\n",
    "# This file should be in the same folder as our Python script or notebook\n",
    "tsv_source_file = open(\"ShugermanProsecutorPoliticians-SupremeCourtJustices.tsv\",\"r\")"
   ]
  },
  {
   "cell_type": "code",
   "execution_count": null,
   "metadata": {
    "id": "_3xeGntfvoaa"
   },
   "outputs": [],
   "source": [
    "# pass our `tsv_source_file` as an ingredient to the the csv library's\n",
    "# DictReader \"recipe.\"\n",
    "# Store the result in a variable called `politicians_reader`\n",
    "politicians_reader = csv.DictReader(tsv_source_file, delimiter='\\t')"
   ]
  },
  {
   "cell_type": "code",
   "execution_count": null,
   "metadata": {
    "id": "0wzJyPdSvoab"
   },
   "outputs": [],
   "source": [
    "# the DictReader method has added some useful information to our data,\n",
    "# like a `fieldnames` property that lets us access all the values\n",
    "# in the first or \"header\" row\n",
    "print(politicians_reader.fieldnames)"
   ]
  },
  {
   "cell_type": "code",
   "execution_count": null,
   "metadata": {
    "id": "yKUN287lvoac"
   },
   "outputs": [],
   "source": [
    "# we'll use the `next()` function to print just the first row of data\n",
    "print (next(politicians_reader))"
   ]
  }
 ],
 "metadata": {
  "colab": {
   "name": "tsv_parsing.ipynb",
   "provenance": []
  },
  "kernelspec": {
   "display_name": "Python 3 (ipykernel)",
   "language": "python",
   "name": "python3"
  },
  "language_info": {
   "codemirror_mode": {
    "name": "ipython",
    "version": 3
   },
   "file_extension": ".py",
   "mimetype": "text/x-python",
   "name": "python",
   "nbconvert_exporter": "python",
   "pygments_lexer": "ipython3",
   "version": "3.9.5"
  }
 },
 "nbformat": 4,
 "nbformat_minor": 1
}

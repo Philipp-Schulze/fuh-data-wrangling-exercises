{
 "cells": [
  {
   "cell_type": "code",
   "execution_count": null,
   "metadata": {
    "id": "vAxYd5wYw0mT"
   },
   "outputs": [],
   "source": [
    "# A simple example of reading data from a .xls file with Python\n",
    "# using the \"xrld\" library. First, pip install the xlrd library:\n",
    "# https://pypi.org/project/xlrd/2.0.1/"
   ]
  },
  {
   "cell_type": "code",
   "execution_count": null,
   "metadata": {
    "id": "mdu3GjFFw0me"
   },
   "outputs": [],
   "source": [
    "# import the \"xlrd\" library\n",
    "import xlrd\n",
    "\n",
    "# import the `csv` library, to create our output file\n",
    "import csv"
   ]
  },
  {
   "cell_type": "code",
   "execution_count": null,
   "metadata": {
    "id": "FtaqxwjBw2Wv"
   },
   "outputs": [],
   "source": [
    "# # UNCOMMENT BELOW TO USE WITH GOOGLE COLAB\n",
    "# # Import PyDrive and associated libraries.\n",
    "# # This only needs to be done once per notebook.\n",
    "# # Documentation found here: https://colab.research.google.com/notebooks/io.ipynb#scrollTo=7taylj9wpsA2\n",
    "# from pydrive.auth import GoogleAuth\n",
    "# from pydrive.drive import GoogleDrive\n",
    "# from google.colab import auth\n",
    "# from oauth2client.client import GoogleCredentials\n",
    "\n",
    "# # Authenticate and create the PyDrive client.\n",
    "# # This only needs to be done once per notebook.\n",
    "# auth.authenticate_user()\n",
    "# gauth = GoogleAuth()\n",
    "# gauth.credentials = GoogleCredentials.get_application_default()\n",
    "# drive = GoogleDrive(gauth)"
   ]
  },
  {
   "cell_type": "code",
   "execution_count": null,
   "metadata": {
    "id": "8dRH4wKCw2c9"
   },
   "outputs": [],
   "source": [
    "# # UNCOMMENT BELOW TO USE WITH GOOGLE COLAB\n",
    "# # Link to data file stored in Drive: https://docs.google.com/spreadsheets/d/1SOkRHWVdhBYn7uoEezrsNe1u5ei0Sbjh/edit?usp=sharing&ouid=113632348659119685771&rtpof=true&sd=true\n",
    "# file_id = '1SOkRHWVdhBYn7uoEezrsNe1u5ei0Sbjh' # notice where this string comes from in link above\n",
    "\n",
    "# imported_file = drive.CreateFile({'id': file_id}) # creating an accessible copy of the shared data file\n",
    "# print(imported_file['title'])  # it should print the title of desired file\n",
    "# imported_file.GetContentFile(imported_file['title']) # refer to it in this notebook by the same name as it has in Drive"
   ]
  },
  {
   "cell_type": "code",
   "execution_count": null,
   "metadata": {
    "id": "4W8sS8MTw0mf"
   },
   "outputs": [],
   "source": [
    "# pass our filename as an ingredient to the `xlrd` library's\n",
    "# `open_workbook()` \"recipe\"\n",
    "# store the result in a variable called `source_workbook`\n",
    "source_workbook = xlrd.open_workbook(\"fredgraph.xls\")"
   ]
  },
  {
   "cell_type": "code",
   "execution_count": null,
   "metadata": {
    "id": "2UPP1KU2w0mh"
   },
   "outputs": [],
   "source": [
    "# an `.xls` workbook can have multiple sheets\n",
    "for sheet_name in source_workbook.sheet_names():\n",
    "\n",
    "    # create a variable that points to the current worksheet by\n",
    "    # passing the current value of `sheet_name` to the `sheet_by_name` recipe\n",
    "    current_sheet = source_workbook.sheet_by_name(sheet_name)\n",
    "\n",
    "    # print `sheet_name`, just to see what it is\n",
    "    print(sheet_name)\n",
    "\n",
    "    # create \"xls_\"+sheet_name+\".csv\" as an output file for the current sheet\n",
    "    output_file = open(\"xls_\"+sheet_name+\".csv\",\"w\")\n",
    "\n",
    "    # use the `csv` library's \"writer\" recipe to easily write rows of data\n",
    "    # to `output_file`, instead of reading data *from* it\n",
    "    output_writer = csv.writer(output_file)\n",
    "\n",
    "    # now, we need to loop through every row in our sheet\n",
    "    for row_num, row in enumerate(current_sheet.get_rows()):\n",
    "\n",
    "        # each row is already a list, but we need to use the `row_value()`\n",
    "        # method to access them\n",
    "        # then we can use the `writerow` recipe to write them\n",
    "        # directly to our output file\n",
    "        output_writer.writerow(current_sheet.row_values(row_num))\n",
    "\n",
    "    # officially close the `.csv` file we just wrote all that data to\n",
    "    output_file.close()"
   ]
  },
  {
   "cell_type": "code",
   "execution_count": null,
   "metadata": {
    "id": "KByD3KUmxBv5"
   },
   "outputs": [],
   "source": [
    "# # UNCOMMENT BELOW TO USE WITH GOOGLE COLAB\n",
    "# from google.colab import files\n",
    "\n",
    "# files.download(\"xls_\"+sheet_name+\".csv\")"
   ]
  }
 ],
 "metadata": {
  "colab": {
   "name": "xls_parsing.ipynb",
   "provenance": []
  },
  "kernelspec": {
   "display_name": "Python 3 (ipykernel)",
   "language": "python",
   "name": "python3"
  },
  "language_info": {
   "codemirror_mode": {
    "name": "ipython",
    "version": 3
   },
   "file_extension": ".py",
   "mimetype": "text/x-python",
   "name": "python",
   "nbconvert_exporter": "python",
   "pygments_lexer": "ipython3",
   "version": "3.9.5"
  }
 },
 "nbformat": 4,
 "nbformat_minor": 1
}

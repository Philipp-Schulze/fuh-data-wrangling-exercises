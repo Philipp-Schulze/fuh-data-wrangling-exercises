{
 "cells": [
  {
   "cell_type": "markdown",
   "metadata": {
    "colab_type": "text",
    "id": "view-in-github"
   },
   "source": [
    "<a href=\"https://colab.research.google.com/github/susanemcg/data_wrangling_exercises/blob/master/chapter_4_examples/jupyter_notebooks/csv_parsing.ipynb\" target=\"_parent\"><img src=\"https://colab.research.google.com/assets/colab-badge.svg\" alt=\"Open In Colab\"/></a>"
   ]
  },
  {
   "cell_type": "code",
   "execution_count": null,
   "metadata": {
    "id": "o30qrU5KglyE"
   },
   "outputs": [],
   "source": [
    "# A simple example of reading data from a .csv file with Python\n",
    "# using the \"csv\" library.\n",
    "# The source data was sampled from the Citi Bike system data:\n",
    "# https://drive.google.com/file/d/17b461NhSjf_akFWvjgNXQfqgh9iFxCu_/\n",
    "# Which can be found here:\n",
    "# https://s3.amazonaws.com/tripdata/index.html"
   ]
  },
  {
   "cell_type": "code",
   "execution_count": null,
   "metadata": {
    "id": "UMAmIi4_glyV"
   },
   "outputs": [],
   "source": [
    "# import the \"csv\" library, which will give us lots of handy code recipes\n",
    "# for dealing with our data file\n",
    "import csv"
   ]
  },
  {
   "cell_type": "code",
   "execution_count": null,
   "metadata": {
    "id": "uTdsfwRpg2aK"
   },
   "outputs": [],
   "source": [
    "# # UNCOMMENT BELOW TO USE WITH GOOGLE COLAB\n",
    "# # Import PyDrive and associated libraries.\n",
    "# # This only needs to be done once per notebook.\n",
    "# # Documentation found here: https://colab.research.google.com/notebooks/io.ipynb#scrollTo=7taylj9wpsA2\n",
    "# from pydrive.auth import GoogleAuth\n",
    "# from pydrive.drive import GoogleDrive\n",
    "# from google.colab import auth\n",
    "# from oauth2client.client import GoogleCredentials\n",
    "\n",
    "# # Authenticate and create the PyDrive client.\n",
    "# # This only needs to be done once per notebook.\n",
    "# auth.authenticate_user()\n",
    "# gauth = GoogleAuth()\n",
    "# gauth.credentials = GoogleCredentials.get_application_default()\n",
    "# drive = GoogleDrive(gauth)"
   ]
  },
  {
   "cell_type": "code",
   "execution_count": null,
   "metadata": {
    "colab": {
     "base_uri": "https://localhost:8080/"
    },
    "id": "MD-AuOx2hOve",
    "outputId": "9afa6e79-2a42-4278-cd0f-77efa5ad9617"
   },
   "outputs": [],
   "source": [
    "# # UNCOMMENT BELOW TO USE WITH GOOGLE COLAB\n",
    "# # Link to data file stored in Drive: https://drive.google.com/file/d/1yUiHmLYGTYuc_o_qS6OMCOzbmwGyghTE/view?usp=sharing\n",
    "# file_id = '1yUiHmLYGTYuc_o_qS6OMCOzbmwGyghTE' # notice where this string comes from in link above\n",
    "\n",
    "# imported_file = drive.CreateFile({'id': file_id}) # creating an accessible copy of the shared data file\n",
    "# print(imported_file['title'])  # it should print the title of desired file\n",
    "# imported_file.GetContentFile(imported_file['title']) # refer to it in this notebook by the same name as it has in Drive"
   ]
  },
  {
   "cell_type": "code",
   "execution_count": null,
   "metadata": {
    "id": "EfVX8pVVgpg9"
   },
   "outputs": [],
   "source": [
    "# open the `202009CitibikeTripdataExample.csv` file in read (\"r\") mode\n",
    "# this file should be in the same folder as our Python script or notebook\n",
    "source_file = open(\"202009CitibikeTripdataExample.csv\",\"r\")"
   ]
  },
  {
   "cell_type": "code",
   "execution_count": null,
   "metadata": {
    "id": "cgbbza0Zgtw2"
   },
   "outputs": [],
   "source": [
    "# pass our `source_file` as an ingredient to the the `csv` library's\n",
    "# DictReader \"recipe\".\n",
    "# Store the result in a variable called `citibike_reader`\n",
    "citibike_reader = csv.DictReader(source_file)"
   ]
  },
  {
   "cell_type": "code",
   "execution_count": null,
   "metadata": {
    "colab": {
     "base_uri": "https://localhost:8080/"
    },
    "id": "hjIzkoJUglyX",
    "outputId": "84d65847-d111-433f-c1e3-4988dbfec115"
   },
   "outputs": [],
   "source": [
    "# the DictReader method has added some useful information to our data,\n",
    "# like a `fieldnames` property that lets us access all the values\n",
    "# in the first or \"header\" row\n",
    "print(citibike_reader.fieldnames)"
   ]
  },
  {
   "cell_type": "code",
   "execution_count": null,
   "metadata": {
    "colab": {
     "base_uri": "https://localhost:8080/"
    },
    "id": "k0QdWOQ1glyY",
    "outputId": "1021a852-87e5-4aea-8a64-b3647299082e"
   },
   "outputs": [],
   "source": [
    "# let's just print out the first 5 rows\n",
    "for i in range(0,5):\n",
    "    print (next(citibike_reader))"
   ]
  }
 ],
 "metadata": {
  "colab": {
   "include_colab_link": true,
   "name": "csv_parsing.ipynb",
   "provenance": []
  },
  "kernelspec": {
   "display_name": "Python 3 (ipykernel)",
   "language": "python",
   "name": "python3"
  },
  "language_info": {
   "codemirror_mode": {
    "name": "ipython",
    "version": 3
   },
   "file_extension": ".py",
   "mimetype": "text/x-python",
   "name": "python",
   "nbconvert_exporter": "python",
   "pygments_lexer": "ipython3",
   "version": "3.9.5"
  }
 },
 "nbformat": 4,
 "nbformat_minor": 1
}
